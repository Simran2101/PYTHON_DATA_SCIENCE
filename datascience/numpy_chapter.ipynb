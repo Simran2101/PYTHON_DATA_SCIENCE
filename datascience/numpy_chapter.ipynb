{
 "cells": [
  {
   "cell_type": "code",
   "execution_count": 1,
   "metadata": {},
   "outputs": [],
   "source": [
    "import numpy as np"
   ]
  },
  {
   "cell_type": "code",
   "execution_count": 24,
   "metadata": {},
   "outputs": [
    {
     "name": "stdout",
     "output_type": "stream",
     "text": [
      "[1 2 3 4 5]\n",
      "<class 'numpy.ndarray'>\n"
     ]
    }
   ],
   "source": [
    "#creation of numpy array = np.array \n",
    "x = np.array([1,2,3,4,5])\n",
    "print(x)\n",
    "print(type(x)) #ndarray"
   ]
  },
  {
   "cell_type": "code",
   "execution_count": 27,
   "metadata": {},
   "outputs": [
    {
     "name": "stdout",
     "output_type": "stream",
     "text": [
      "5\n",
      "(5,)\n",
      "1\n"
     ]
    }
   ],
   "source": [
    "#shape and size\n",
    "print(x.size) #total no. of elements\n",
    "print(x.shape) #dimensionwise elements\n",
    "print(x.ndim) #num of dimensions"
   ]
  },
  {
   "cell_type": "code",
   "execution_count": 28,
   "metadata": {},
   "outputs": [
    {
     "name": "stdout",
     "output_type": "stream",
     "text": [
      "[[1 2 3]\n",
      " [4 5 6]]\n",
      "5\n",
      "(5,)\n",
      "1\n"
     ]
    }
   ],
   "source": [
    "x2d = np.array([[1,2,3],[4,5,6]])\n",
    "print(x2d)\n",
    "print(x.size) #total no. of elements\n",
    "print(x.shape) #dimensionwise elements\n",
    "print(x.ndim) #num of dimensions"
   ]
  },
  {
   "cell_type": "code",
   "execution_count": 7,
   "metadata": {},
   "outputs": [
    {
     "name": "stdout",
     "output_type": "stream",
     "text": [
      "[[76 46 59  2 81]\n",
      " [66 74 99 65 68]\n",
      " [61 86 88 14 88]\n",
      " [81 86 39 35 77]\n",
      " [82 28  9 12 47]]\n"
     ]
    }
   ],
   "source": [
    "x25 = np.random.randint(1,100,(5,5))\n",
    "print(x25)"
   ]
  },
  {
   "cell_type": "code",
   "execution_count": 12,
   "metadata": {},
   "outputs": [
    {
     "name": "stdout",
     "output_type": "stream",
     "text": [
      "[ 1  5  9 13 17 21 25 29 33 37 41 45 49 53 57 61 65 69 73 77 81 85 89 93\n",
      " 97]\n",
      "25\n"
     ]
    }
   ],
   "source": [
    "xseq1 = np.arange(1,101,4)\n",
    "print(xseq1)\n",
    "print(xseq1.size)\n"
   ]
  },
  {
   "cell_type": "code",
   "execution_count": 31,
   "metadata": {},
   "outputs": [
    {
     "name": "stdout",
     "output_type": "stream",
     "text": [
      "25 elements\n",
      "=>1D MATRIX\n",
      "[ 1  5  9 13 17 21 25 29 33 37 41 45 49 53 57 61 65 69 73 77 81 85 89 93\n",
      " 97]\n",
      "=>1D MATRIX RESHAPED TO 2D\n",
      "[[ 1  5  9 13 17]\n",
      " [21 25 29 33 37]\n",
      " [41 45 49 53 57]\n",
      " [61 65 69 73 77]\n",
      " [81 85 89 93 97]]\n"
     ]
    }
   ],
   "source": [
    "xseq1 = np.arange(1,101,4)\n",
    "print(xseq1.size,\"elements\")\n",
    "print(\"=>1D MATRIX\")\n",
    "print(xseq1)\n",
    "print(\"=>1D MATRIX RESHAPED TO 2D\")\n",
    "print(xseq1.reshape(5,5))\n"
   ]
  },
  {
   "cell_type": "code",
   "execution_count": null,
   "metadata": {},
   "outputs": [],
   "source": [
    "xseq2 = np.linspace(1, 100, 50)\n",
    "print(xseq2.size,\"elements\")\n",
    "print(\"=>1D MATRIX\")\n",
    "print(seq2)\n",
    "print(\"=>1D MATRIX RESHAPED TO 2D\")\n",
    "print(xseq2.reshape(10,5))\n",
    "\n"
   ]
  },
  {
   "cell_type": "code",
   "execution_count": null,
   "metadata": {},
   "outputs": [],
   "source": [
    "xseq2 = xseq2.reshape(10,5)\n",
    "print(xseq2d)"
   ]
  },
  {
   "cell_type": "code",
   "execution_count": null,
   "metadata": {},
   "outputs": [],
   "source": [
    "np.one((5,5), dtype='int')"
   ]
  },
  {
   "cell_type": "markdown",
   "metadata": {},
   "source": [
    "- indexing and slicing\n",
    "- boolean filter\n",
    "- maths and Stats\n",
    "- methods\n"
   ]
  },
  {
   "cell_type": "code",
   "execution_count": 16,
   "metadata": {},
   "outputs": [
    {
     "data": {
      "text/plain": [
       "array([[76, 46, 59,  2, 81],\n",
       "       [66, 74, 99, 65, 68],\n",
       "       [61, 86, 88, 14, 88],\n",
       "       [81, 86, 39, 35, 77],\n",
       "       [82, 28,  9, 12, 47]])"
      ]
     },
     "execution_count": 16,
     "metadata": {},
     "output_type": "execute_result"
    }
   ],
   "source": [
    "x25"
   ]
  },
  {
   "cell_type": "code",
   "execution_count": 19,
   "metadata": {},
   "outputs": [
    {
     "name": "stdout",
     "output_type": "stream",
     "text": [
      "[76 46 59  2 81]\n"
     ]
    }
   ],
   "source": [
    "#first row\n",
    "print(x25[0])"
   ]
  },
  {
   "cell_type": "code",
   "execution_count": 20,
   "metadata": {},
   "outputs": [
    {
     "name": "stdout",
     "output_type": "stream",
     "text": [
      "[82 28  9 12 47]\n"
     ]
    }
   ],
   "source": [
    "#last row\n",
    "print(x25[-1])"
   ]
  },
  {
   "cell_type": "code",
   "execution_count": 21,
   "metadata": {},
   "outputs": [
    {
     "name": "stdout",
     "output_type": "stream",
     "text": [
      "46\n"
     ]
    }
   ],
   "source": [
    "print(x25[0,1]) #same as print(x25[0][1])"
   ]
  },
  {
   "cell_type": "code",
   "execution_count": 22,
   "metadata": {},
   "outputs": [
    {
     "name": "stdout",
     "output_type": "stream",
     "text": [
      "[76 66 61 81 82]\n",
      "[46 74 86 86 28]\n",
      "[81 68 88 77 47]\n"
     ]
    }
   ],
   "source": [
    "# 1st column\n",
    "print(x25[:, 0])\n",
    "\n",
    "# 2nd column\n",
    "print(x25[:, 1])\n",
    "\n",
    "# 3rd column\n",
    "print(x25[:, -1])\n"
   ]
  },
  {
   "cell_type": "code",
   "execution_count": null,
   "metadata": {},
   "outputs": [],
   "source": [
    "#column 0,1,2 idxs\n",
    "print(x25[:[0,1,2]])\n",
    "#same thing as above\n",
    "print(x25[:, :3])"
   ]
  },
  {
   "cell_type": "code",
   "execution_count": null,
   "metadata": {},
   "outputs": [],
   "source": [
    "print(x.dot(y))\n",
    "print()\n",
    "x.sum()\n",
    "x.sum(axis)\n"
   ]
  }
 ],
 "metadata": {
  "kernelspec": {
   "display_name": "Python 3.9.13 ('base')",
   "language": "python",
   "name": "python3"
  },
  "language_info": {
   "codemirror_mode": {
    "name": "ipython",
    "version": 3
   },
   "file_extension": ".py",
   "mimetype": "text/x-python",
   "name": "python",
   "nbconvert_exporter": "python",
   "pygments_lexer": "ipython3",
   "version": "3.9.13"
  },
  "orig_nbformat": 4,
  "vscode": {
   "interpreter": {
    "hash": "79d71d161e7943240a345005223b4b57f09b9732a24e4917a9c0467b3aef16ea"
   }
  }
 },
 "nbformat": 4,
 "nbformat_minor": 2
}
