{
 "cells": [
  {
   "cell_type": "code",
   "execution_count": 2,
   "metadata": {},
   "outputs": [],
   "source": [
    "import requests #collects the webpage data object \n",
    "from bs4 import BeautifulSoup #converts the requests object in readable object"
   ]
  },
  {
   "cell_type": "code",
   "execution_count": 3,
   "metadata": {},
   "outputs": [
    {
     "name": "stdout",
     "output_type": "stream",
     "text": [
      "200\n"
     ]
    }
   ],
   "source": [
    "addr = 'https://www.ndtv.com/latest' #webpage address\n",
    "page = requests.get(addr) #collects data from webpage\n",
    "print(page.status_code) # status code"
   ]
  },
  {
   "cell_type": "code",
   "execution_count": 8,
   "metadata": {},
   "outputs": [],
   "source": [
    "soup = BeautifulSoup(page.text) #soup -> object of class BeautifulSoup"
   ]
  },
  {
   "cell_type": "code",
   "execution_count": 31,
   "metadata": {},
   "outputs": [
    {
     "name": "stdout",
     "output_type": "stream",
     "text": [
      "target found\n"
     ]
    }
   ],
   "source": [
    "target = soup.find('div',attrs={'class':'lisingNews'})\n",
    "if target is not None:\n",
    "    print('target found')\n",
    "else:\n",
    "    print('could not find targeted area')    "
   ]
  },
  {
   "cell_type": "code",
   "execution_count": null,
   "metadata": {},
   "outputs": [],
   "source": [
    "#target = soup.find"
   ]
  },
  {
   "cell_type": "code",
   "execution_count": 13,
   "metadata": {},
   "outputs": [],
   "source": [
    "#target"
   ]
  },
  {
   "cell_type": "code",
   "execution_count": 26,
   "metadata": {},
   "outputs": [],
   "source": [
    "#print(target)"
   ]
  },
  {
   "cell_type": "code",
   "execution_count": 15,
   "metadata": {},
   "outputs": [],
   "source": [
    "#print(target.text)"
   ]
  },
  {
   "cell_type": "code",
   "execution_count": null,
   "metadata": {},
   "outputs": [],
   "source": [
    "#print(page.text) #shows content of webpage"
   ]
  },
  {
   "cell_type": "code",
   "execution_count": 32,
   "metadata": {},
   "outputs": [
    {
     "name": "stdout",
     "output_type": "stream",
     "text": [
      "17 news headlines found\n"
     ]
    }
   ],
   "source": [
    "news = target.find_all('div', attrs={'class':'news_Itm'})\n",
    "if news is not None:\n",
    "    print(len(news),'news headlines found')\n",
    "else:\n",
    "    print('could not find the tags you are looking for')"
   ]
  },
  {
   "cell_type": "code",
   "execution_count": 33,
   "metadata": {},
   "outputs": [
    {
     "name": "stdout",
     "output_type": "stream",
     "text": [
      "Inside Web 3.0: The New Iteration Of The Internet\n",
      "If the number of investments and the accompanying buzz are considered, Web3 or Web 3.0 is clearly the future of the internet.\n",
      "Reported by Aprameya Venkatanarasimha Rao, Edited by Rahul Karunakar  | Saturday September 17, 2022\n",
      "------------------------------------------------------------------------------------------\n",
      "Maharashtra Cancels Johnson & Johnson's Baby Powder Manufacturing Licence\n",
      "Maharashtra's Food and Drugs Administration (FDA) on Friday cancelled the baby powder manufacturing licence of Johnson & Johnson Pvt Ltd \"in the interest of public health at large\".\n",
      "Press Trust of India   | Saturday September 17, 2022, Mumbai\n",
      "------------------------------------------------------------------------------------------\n",
      "Ramkumar Ramanathan Loses Second Singles vs Norway, Indian Team Stares At Defeat In Davis Cup\n",
      "Ramkumar, the number one singles player for India, failed to live up to expectations as he suffered a 1-6, 4-6 loss to his lower-ranked opponent Durasovic in one hour and 16 minutes on Friday\n",
      "Press Trust of India   | Saturday September 17, 2022\n",
      "------------------------------------------------------------------------------------------\n",
      "no title found\n",
      "Watch: Irfan Pathan Shares Adorable Video of Brother Yusuf With Eden Gardens Staff, Says \"Much Cricket Left\" In Him\n",
      "Both Yusuf Pathan and Irfan Pathan acknowledged the effort of the ground staff and the duo also shared some moments of laughter with them.\n",
      "NDTV Sports Desk   | Saturday September 17, 2022\n",
      "------------------------------------------------------------------------------------------\n",
      "Economic Growth To Be Consumer-Spending Driven: Government Review\n",
      "A sharp rebound in consumer spending and rising employment will sustain economic growth in India in the months ahead, the government said.\n",
      "Reuters   | Saturday September 17, 2022, MUMBAI\n",
      "------------------------------------------------------------------------------------------\n",
      "Watch: Moment When Cheetahs Were Released Into Their New Home\n",
      "Madhya Pradesh's Kuno National Park on Saturday welcomed eight cheetahs from Namibia as part of a programme to reintroduce the feline in India.\n",
      "Edited by Aditi Gautam  | Saturday September 17, 2022, Gwalior\n",
      "------------------------------------------------------------------------------------------\n",
      "no title found\n",
      "Punjab Prepares Elaborate Plan To Fight Stubble-Burning In Harvest Season\n",
      "The Punjab government has prepared an elaborate plan involving a massive awareness drive, distribution of thousands of crop residue management machines and engaging students to fight stubble burning in the upcoming harvest season.\n",
      "Press Trust of India   | Saturday September 17, 2022, Chandigarh\n",
      "------------------------------------------------------------------------------------------\n",
      "Suhana Khan Meets Her Pakistani Lookalike On Her Dubai Trip\n",
      "\"Finally met my doppelgnger Suhana Khan,\" wrote Suhana's lookalike\n",
      "Written by Jyothi Jha  | Saturday September 17, 2022, New Delhi\n",
      "------------------------------------------------------------------------------------------\n",
      "Forex Reserves Have Fallen Over $80 Billion Since Ukraine Crisis To 2-Year Low\n",
      "India's forex reserves have nosedived over $80 billion since the Ukraine crisis, with more than $2 billion fall in the latest week.\n",
      "Edited by Rahul Karunakar  | Saturday September 17, 2022\n",
      "------------------------------------------------------------------------------------------\n",
      "Video: Visitors Seek Shelter After Spotting Funnel-Shaped Cloud Forming Over Disney World In US\n",
      "A large funnel-shaped cloud formation spooked and concerned guests at Walt Disney World Florida, US, this week after it appeared in the dark skies above the theme park.\n",
      "Edited by Bhavya Sukheja  | Saturday September 17, 2022\n",
      "------------------------------------------------------------------------------------------\n",
      "Won't Allow Erosion Of Autonomy Of State Universities, Says Kerala Governor\n",
      "The Governor's statement comes a day after Chief Minister Pinarayi Vijayan lashed out at Kerala Governor Arif Mohammed Khan over his remarks on alleged nepotism in appointments in the state universities, calling it \"absurd.\"\n",
      "Reported by Press Trust of India | Saturday September 17, 2022\n",
      "------------------------------------------------------------------------------------------\n",
      "Umesh Yadav Undergoing Rehab At NCA After Suffering On-field Injury In England\n",
      "Umesh Yadav injured his quad muscles in the Royal London One-Day Cup match at Radlett on August 21 and then left for India for rehab\n",
      "Press Trust of India   | Saturday September 17, 2022\n",
      "------------------------------------------------------------------------------------------\n",
      "US Appeals Court Bars Big Tech From Regulating Online Speech: Report\n",
      "A Texas law that bars large social media companies from censoring users based on viewpoint was reportedly upheld by a US appeals court a day ago. This is said to be a setback for the technology industry groups who say the measure would turn platforms into bastions of dangerous content.\n",
      "Written by Jasmin Jose , Edited by Siddharth Suvarna  | Saturday September 17, 2022\n",
      "------------------------------------------------------------------------------------------\n",
      "Shane Bond Appointed Head Coach Of MI Emirates, Parthiv Patel To Be Batting Coach\n",
      "MI Emirates on Saturday confirmed that former New Zealand pacer Shane Bond will be their head coach while former India batter Parthiv Patel will be the batting coach.\n",
      "NDTV Sports Desk   | Saturday September 17, 2022\n",
      "------------------------------------------------------------------------------------------\n",
      "Pics: Cheetahs Explore New Home After Being Released By PM Modi\n",
      "Prime Minister Narendra Modi today released two of eight cheetahs into Madhya Pradesh's Kuno National Park. The cheetahs were released from enclosure number one following which another cheetah was released from the second enclosure.\n",
      "Edited by Supriti David  | Saturday September 17, 2022, New Delhi\n",
      "------------------------------------------------------------------------------------------\n"
     ]
    }
   ],
   "source": [
    "for entry in news:\n",
    "    title = entry.find('h2', attrs={'class':'newsHdng'})\n",
    "    summary = entry.find('p', attrs={'class':'newsCont'})\n",
    "    info = entry.find('span', attrs={'class':'posted-by'})\n",
    "    if title is not None:\n",
    "        print(title.text.strip())\n",
    "        print(summary.text.strip())\n",
    "        print(info.text.strip())\n",
    "        print('---------' * 10)\n",
    "    else:\n",
    "        print('no title found')    "
   ]
  },
  {
   "cell_type": "code",
   "execution_count": 34,
   "metadata": {},
   "outputs": [
    {
     "name": "stdout",
     "output_type": "stream",
     "text": [
      "Inside Web 3.0: The New Iteration Of The Internet\n",
      "If the number of investments and the accompanying buzz are considered, Web3 or Web 3.0 is clearly the future of the internet.\n",
      "Reported by Aprameya Venkatanarasimha Rao, Edited by Rahul Karunakar  | Saturday September 17, 2022\n",
      "------------------------------------------------------------------------------------------\n",
      "Maharashtra Cancels Johnson & Johnson's Baby Powder Manufacturing Licence\n",
      "Maharashtra's Food and Drugs Administration (FDA) on Friday cancelled the baby powder manufacturing licence of Johnson & Johnson Pvt Ltd \"in the interest of public health at large\".\n",
      "Press Trust of India   | Saturday September 17, 2022, Mumbai\n",
      "------------------------------------------------------------------------------------------\n",
      "Ramkumar Ramanathan Loses Second Singles vs Norway, Indian Team Stares At Defeat In Davis Cup\n",
      "Ramkumar, the number one singles player for India, failed to live up to expectations as he suffered a 1-6, 4-6 loss to his lower-ranked opponent Durasovic in one hour and 16 minutes on Friday\n",
      "Press Trust of India   | Saturday September 17, 2022\n",
      "------------------------------------------------------------------------------------------\n",
      "no title found\n",
      "Watch: Irfan Pathan Shares Adorable Video of Brother Yusuf With Eden Gardens Staff, Says \"Much Cricket Left\" In Him\n",
      "Both Yusuf Pathan and Irfan Pathan acknowledged the effort of the ground staff and the duo also shared some moments of laughter with them.\n",
      "NDTV Sports Desk   | Saturday September 17, 2022\n",
      "------------------------------------------------------------------------------------------\n",
      "Economic Growth To Be Consumer-Spending Driven: Government Review\n",
      "A sharp rebound in consumer spending and rising employment will sustain economic growth in India in the months ahead, the government said.\n",
      "Reuters   | Saturday September 17, 2022, MUMBAI\n",
      "------------------------------------------------------------------------------------------\n",
      "Watch: Moment When Cheetahs Were Released Into Their New Home\n",
      "Madhya Pradesh's Kuno National Park on Saturday welcomed eight cheetahs from Namibia as part of a programme to reintroduce the feline in India.\n",
      "Edited by Aditi Gautam  | Saturday September 17, 2022, Gwalior\n",
      "------------------------------------------------------------------------------------------\n",
      "no title found\n",
      "Punjab Prepares Elaborate Plan To Fight Stubble-Burning In Harvest Season\n",
      "The Punjab government has prepared an elaborate plan involving a massive awareness drive, distribution of thousands of crop residue management machines and engaging students to fight stubble burning in the upcoming harvest season.\n",
      "Press Trust of India   | Saturday September 17, 2022, Chandigarh\n",
      "------------------------------------------------------------------------------------------\n",
      "Suhana Khan Meets Her Pakistani Lookalike On Her Dubai Trip\n",
      "\"Finally met my doppelgnger Suhana Khan,\" wrote Suhana's lookalike\n",
      "Written by Jyothi Jha  | Saturday September 17, 2022, New Delhi\n",
      "------------------------------------------------------------------------------------------\n",
      "Forex Reserves Have Fallen Over $80 Billion Since Ukraine Crisis To 2-Year Low\n",
      "India's forex reserves have nosedived over $80 billion since the Ukraine crisis, with more than $2 billion fall in the latest week.\n",
      "Edited by Rahul Karunakar  | Saturday September 17, 2022\n",
      "------------------------------------------------------------------------------------------\n",
      "Video: Visitors Seek Shelter After Spotting Funnel-Shaped Cloud Forming Over Disney World In US\n",
      "A large funnel-shaped cloud formation spooked and concerned guests at Walt Disney World Florida, US, this week after it appeared in the dark skies above the theme park.\n",
      "Edited by Bhavya Sukheja  | Saturday September 17, 2022\n",
      "------------------------------------------------------------------------------------------\n",
      "Won't Allow Erosion Of Autonomy Of State Universities, Says Kerala Governor\n",
      "The Governor's statement comes a day after Chief Minister Pinarayi Vijayan lashed out at Kerala Governor Arif Mohammed Khan over his remarks on alleged nepotism in appointments in the state universities, calling it \"absurd.\"\n",
      "Reported by Press Trust of India | Saturday September 17, 2022\n",
      "------------------------------------------------------------------------------------------\n",
      "Umesh Yadav Undergoing Rehab At NCA After Suffering On-field Injury In England\n",
      "Umesh Yadav injured his quad muscles in the Royal London One-Day Cup match at Radlett on August 21 and then left for India for rehab\n",
      "Press Trust of India   | Saturday September 17, 2022\n",
      "------------------------------------------------------------------------------------------\n",
      "US Appeals Court Bars Big Tech From Regulating Online Speech: Report\n",
      "A Texas law that bars large social media companies from censoring users based on viewpoint was reportedly upheld by a US appeals court a day ago. This is said to be a setback for the technology industry groups who say the measure would turn platforms into bastions of dangerous content.\n",
      "Written by Jasmin Jose , Edited by Siddharth Suvarna  | Saturday September 17, 2022\n",
      "------------------------------------------------------------------------------------------\n",
      "Shane Bond Appointed Head Coach Of MI Emirates, Parthiv Patel To Be Batting Coach\n",
      "MI Emirates on Saturday confirmed that former New Zealand pacer Shane Bond will be their head coach while former India batter Parthiv Patel will be the batting coach.\n",
      "NDTV Sports Desk   | Saturday September 17, 2022\n",
      "------------------------------------------------------------------------------------------\n",
      "Pics: Cheetahs Explore New Home After Being Released By PM Modi\n",
      "Prime Minister Narendra Modi today released two of eight cheetahs into Madhya Pradesh's Kuno National Park. The cheetahs were released from enclosure number one following which another cheetah was released from the second enclosure.\n",
      "Edited by Supriti David  | Saturday September 17, 2022, New Delhi\n",
      "------------------------------------------------------------------------------------------\n"
     ]
    }
   ],
   "source": [
    "for idx, entry in enumerate(news):\n",
    "    title = entry.find('h2', attrs={'class':'newsHdng'})\n",
    "    summary = entry.find('p', attrs={'class':'newsCont'})\n",
    "    info = entry.find('span', attrs={'class':'posted-by'})\n",
    "    if title is not None:\n",
    "        print(title.text.strip())\n",
    "        print(summary.text.strip())\n",
    "        print(info.text.strip())\n",
    "        print('---------' * 10)\n",
    "    else:\n",
    "        print('no title found') "
   ]
  },
  {
   "cell_type": "code",
   "execution_count": 36,
   "metadata": {},
   "outputs": [
    {
     "name": "stdout",
     "output_type": "stream",
     "text": [
      "no title was found\n",
      "no title was found\n",
      "[{'#': 1, 'title': 'Inside Web 3.0: The New Iteration Of The Internet', 'summary': 'If the number of investments and the accompanying buzz are considered, Web3 or Web 3.0 is clearly the future of the internet.', 'source': 'Reported by Aprameya Venkatanarasimha Rao, Edited by Rahul Karunakar', 'location': 'Saturday September 17, 2022'}, {'#': 2, 'title': \"Maharashtra Cancels Johnson & Johnson's Baby Powder Manufacturing Licence\", 'summary': 'Maharashtra\\'s Food and Drugs Administration (FDA) on Friday cancelled the baby powder manufacturing licence of Johnson & Johnson Pvt Ltd \"in the interest of public health at large\".', 'source': 'Press Trust of India', 'location': 'Saturday September 17, 2022, Mumbai'}, {'#': 3, 'title': 'Ramkumar Ramanathan Loses Second Singles vs Norway, Indian Team Stares At Defeat In Davis Cup', 'summary': 'Ramkumar, the number one singles player for India, failed to live up to expectations as he suffered a 1-6, 4-6 loss to his lower-ranked opponent Durasovic in one hour and 16 minutes on Friday', 'source': 'Press Trust of India', 'location': 'Saturday September 17, 2022'}, {'#': 5, 'title': 'Watch: Irfan Pathan Shares Adorable Video of Brother Yusuf With Eden Gardens Staff, Says \"Much Cricket Left\" In Him', 'summary': 'Both Yusuf Pathan and Irfan Pathan acknowledged the effort of the ground staff and the duo also shared some moments of laughter with them.', 'source': 'NDTV Sports Desk', 'location': 'Saturday September 17, 2022'}, {'#': 6, 'title': 'Economic Growth To Be Consumer-Spending Driven: Government Review', 'summary': 'A sharp rebound in consumer spending and rising employment will sustain economic growth in India in the months ahead, the government said.', 'source': 'Reuters', 'location': 'Saturday September 17, 2022, MUMBAI'}, {'#': 7, 'title': 'Watch: Moment When Cheetahs Were Released Into Their New Home', 'summary': \"Madhya Pradesh's Kuno National Park on Saturday welcomed eight cheetahs from Namibia as part of a programme to reintroduce the feline in India.\", 'source': 'Edited by Aditi Gautam', 'location': 'Saturday September 17, 2022, Gwalior'}, {'#': 9, 'title': 'Punjab Prepares Elaborate Plan To Fight Stubble-Burning In Harvest Season', 'summary': 'The Punjab government has prepared an elaborate plan involving a massive awareness drive, distribution of thousands of crop residue management machines and engaging students to fight stubble burning in the upcoming harvest season.', 'source': 'Press Trust of India', 'location': 'Saturday September 17, 2022, Chandigarh'}, {'#': 10, 'title': 'Suhana Khan Meets Her Pakistani Lookalike On Her Dubai Trip', 'summary': '\"Finally met my doppelgnger Suhana Khan,\" wrote Suhana\\'s lookalike', 'source': 'Written by Jyothi Jha', 'location': 'Saturday September 17, 2022, New Delhi'}, {'#': 11, 'title': 'Forex Reserves Have Fallen Over $80 Billion Since Ukraine Crisis To 2-Year Low', 'summary': \"India's forex reserves have nosedived over $80 billion since the Ukraine crisis, with more than $2 billion fall in the latest week.\", 'source': 'Edited by Rahul Karunakar', 'location': 'Saturday September 17, 2022'}, {'#': 12, 'title': 'Video: Visitors Seek Shelter After Spotting Funnel-Shaped Cloud Forming Over Disney World In US', 'summary': 'A large funnel-shaped cloud formation spooked and concerned guests at Walt Disney World Florida, US, this week after it appeared in the dark skies above the theme park.', 'source': 'Edited by Bhavya Sukheja', 'location': 'Saturday September 17, 2022'}, {'#': 13, 'title': \"Won't Allow Erosion Of Autonomy Of State Universities, Says Kerala Governor\", 'summary': 'The Governor\\'s statement comes a day after Chief Minister Pinarayi Vijayan lashed out at Kerala Governor Arif Mohammed Khan over his remarks on alleged nepotism in appointments in the state universities, calling it \"absurd.\"', 'source': 'Reported by Press Trust of India', 'location': 'Saturday September 17, 2022'}, {'#': 14, 'title': 'Umesh Yadav Undergoing Rehab At NCA After Suffering On-field Injury In England', 'summary': 'Umesh Yadav injured his quad muscles in the Royal London One-Day Cup match at Radlett on August 21 and then left for India for rehab', 'source': 'Press Trust of India', 'location': 'Saturday September 17, 2022'}, {'#': 15, 'title': 'US Appeals Court Bars Big Tech From Regulating Online Speech: Report', 'summary': 'A Texas law that bars large social media companies from censoring users based on viewpoint was reportedly upheld by a US appeals court a day ago. This is said to be a setback for the technology industry groups who say the measure would turn platforms into bastions of dangerous content.', 'source': 'Written by Jasmin Jose , Edited by Siddharth Suvarna', 'location': 'Saturday September 17, 2022'}, {'#': 16, 'title': 'Shane Bond Appointed Head Coach Of MI Emirates, Parthiv Patel To Be Batting Coach', 'summary': 'MI Emirates on Saturday confirmed that former New Zealand pacer Shane Bond will be their head coach while former India batter Parthiv Patel will be the batting coach.', 'source': 'NDTV Sports Desk', 'location': 'Saturday September 17, 2022'}, {'#': 17, 'title': 'Pics: Cheetahs Explore New Home After Being Released By PM Modi', 'summary': \"Prime Minister Narendra Modi today released two of eight cheetahs into Madhya Pradesh's Kuno National Park. The cheetahs were released from enclosure number one following which another cheetah was released from the second enclosure.\", 'source': 'Edited by Supriti David', 'location': 'Saturday September 17, 2022, New Delhi'}]\n"
     ]
    }
   ],
   "source": [
    "#final extraction code\n",
    "news_data = [] #empty list\n",
    "for idx, entry in enumerate(news):\n",
    "    title = entry.find('h2', attrs={'class':'newsHdng'})\n",
    "    summary = entry.find('p', attrs={'class':'newsCont'})\n",
    "    info = entry.find('span', attrs={'class':'posted-by'})\n",
    "    if title is not None:\n",
    "        source, location = info.text.split('|')\n",
    "        news_data.append({\n",
    "            '#': idx+1,\n",
    "            'title': title.text.strip(),\n",
    "            'summary': summary.text.strip(),\n",
    "            'source' : source.strip(),\n",
    "            'location': location.strip(),\n",
    "        })    \n",
    "    else:\n",
    "        print('no title was found') \n",
    "print(news_data)        "
   ]
  },
  {
   "cell_type": "code",
   "execution_count": 3,
   "metadata": {},
   "outputs": [
    {
     "name": "stdout",
     "output_type": "stream",
     "text": [
      "0 11\n",
      "1 13\n",
      "2 14\n",
      "3 2\n"
     ]
    }
   ],
   "source": [
    "x = [11,13,14,2]\n",
    "for i,v in enumerate(x):\n",
    "    print(i,v)"
   ]
  },
  {
   "cell_type": "code",
   "execution_count": 4,
   "metadata": {},
   "outputs": [
    {
     "name": "stdout",
     "output_type": "stream",
     "text": [
      "\u001b[1;31mSignature:\u001b[0m \u001b[0mstr\u001b[0m\u001b[1;33m.\u001b[0m\u001b[0mstrip\u001b[0m\u001b[1;33m(\u001b[0m\u001b[0mself\u001b[0m\u001b[1;33m,\u001b[0m \u001b[0mchars\u001b[0m\u001b[1;33m=\u001b[0m\u001b[1;32mNone\u001b[0m\u001b[1;33m,\u001b[0m \u001b[1;33m/\u001b[0m\u001b[1;33m)\u001b[0m\u001b[1;33m\u001b[0m\u001b[1;33m\u001b[0m\u001b[0m\n",
      "\u001b[1;31mDocstring:\u001b[0m\n",
      "Return a copy of the string with leading and trailing whitespace removed.\n",
      "\n",
      "If chars is given and not None, remove characters in chars instead.\n",
      "\u001b[1;31mType:\u001b[0m      method_descriptor\n"
     ]
    }
   ],
   "source": [
    "str.strip?"
   ]
  }
 ],
 "metadata": {
  "kernelspec": {
   "display_name": "Python 3.9.13 ('base')",
   "language": "python",
   "name": "python3"
  },
  "language_info": {
   "codemirror_mode": {
    "name": "ipython",
    "version": 3
   },
   "file_extension": ".py",
   "mimetype": "text/x-python",
   "name": "python",
   "nbconvert_exporter": "python",
   "pygments_lexer": "ipython3",
   "version": "3.9.13"
  },
  "orig_nbformat": 4,
  "vscode": {
   "interpreter": {
    "hash": "79d71d161e7943240a345005223b4b57f09b9732a24e4917a9c0467b3aef16ea"
   }
  }
 },
 "nbformat": 4,
 "nbformat_minor": 2
}
