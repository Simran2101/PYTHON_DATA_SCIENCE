{
 "cells": [
  {
   "cell_type": "code",
   "execution_count": 10,
   "metadata": {},
   "outputs": [
    {
     "name": "stdout",
     "output_type": "stream",
     "text": [
      "\n"
     ]
    }
   ],
   "source": [
    "print()"
   ]
  },
  {
   "cell_type": "code",
   "execution_count": 9,
   "metadata": {},
   "outputs": [
    {
     "name": "stdout",
     "output_type": "stream",
     "text": [
      "This is an apple it is a fruit i dont like apples\n"
     ]
    }
   ],
   "source": [
    "print('This is an apple','it is a fruit','i dont like apples')"
   ]
  },
  {
   "cell_type": "code",
   "execution_count": 8,
   "metadata": {},
   "outputs": [
    {
     "name": "stdout",
     "output_type": "stream",
     "text": [
      "SIMRAN SHARMA\n"
     ]
    }
   ],
   "source": [
    "print(\"SIMRAN SHARMA\")"
   ]
  },
  {
   "cell_type": "code",
   "execution_count": 4,
   "metadata": {},
   "outputs": [
    {
     "name": "stdout",
     "output_type": "stream",
     "text": [
      "This is Python Data Science\n",
      "We are going to do code\n",
      "and learn the secret of python\n",
      "thats it\n"
     ]
    }
   ],
   "source": [
    "print(\"This is Python Data Science\")\n",
    "print(\"We are going to do code\")\n",
    "print(\"and learn the secret of python\")\n",
    "print(\"thats it\")"
   ]
  },
  {
   "cell_type": "markdown",
   "metadata": {},
   "source": [
    "# Raw output are only for developers understanding"
   ]
  },
  {
   "cell_type": "code",
   "execution_count": 15,
   "metadata": {},
   "outputs": [
    {
     "data": {
      "text/plain": [
       "3497"
      ]
     },
     "execution_count": 15,
     "metadata": {},
     "output_type": "execute_result"
    }
   ],
   "source": [
    "230+3290-23"
   ]
  },
  {
   "cell_type": "code",
   "execution_count": 45,
   "metadata": {},
   "outputs": [
    {
     "name": "stdout",
     "output_type": "stream",
     "text": [
      "The Zen of Python, by Tim Peters\n",
      "\n",
      "Beautiful is better than ugly.\n",
      "Explicit is better than implicit.\n",
      "Simple is better than complex.\n",
      "Complex is better than complicated.\n",
      "Flat is better than nested.\n",
      "Sparse is better than dense.\n",
      "Readability counts.\n",
      "Special cases aren't special enough to break the rules.\n",
      "Although practicality beats purity.\n",
      "Errors should never pass silently.\n",
      "Unless explicitly silenced.\n",
      "In the face of ambiguity, refuse the temptation to guess.\n",
      "There should be one-- and preferably only one --obvious way to do it.\n",
      "Although that way may not be obvious at first unless you're Dutch.\n",
      "Now is better than never.\n",
      "Although never is often better than *right* now.\n",
      "If the implementation is hard to explain, it's a bad idea.\n",
      "If the implementation is easy to explain, it may be a good idea.\n",
      "Namespaces are one honking great idea -- let's do more of those!\n"
     ]
    }
   ],
   "source": [
    "import this"
   ]
  },
  {
   "cell_type": "markdown",
   "metadata": {},
   "source": [
    "There are few settings in print functions that we can provide whenever we want to print something."
   ]
  },
  {
   "cell_type": "markdown",
   "metadata": {},
   "source": [
    "sep = seperation symbol emoji (Emoji = window + .)"
   ]
  },
  {
   "cell_type": "code",
   "execution_count": 22,
   "metadata": {},
   "outputs": [
    {
     "name": "stdout",
     "output_type": "stream",
     "text": [
      "SIMRAN✨SHARMA\n"
     ]
    }
   ],
   "source": [
    "print(\"SIMRAN✨SHARMA\")"
   ]
  },
  {
   "cell_type": "code",
   "execution_count": 35,
   "metadata": {},
   "outputs": [
    {
     "name": "stdout",
     "output_type": "stream",
     "text": [
      "1😊😎😘😉😍2😊😎😘😉😍3😊😎😘😉😍4😊😎😘😉😍5\n"
     ]
    }
   ],
   "source": [
    "print(1,2,3,4,5, sep='😊😎😘😉😍')"
   ]
  },
  {
   "cell_type": "code",
   "execution_count": 34,
   "metadata": {},
   "outputs": [
    {
     "name": "stdout",
     "output_type": "stream",
     "text": [
      "1,2,3,4,5."
     ]
    }
   ],
   "source": [
    "print(1,2,3,4,5,sep=',',end='.')"
   ]
  },
  {
   "cell_type": "markdown",
   "metadata": {},
   "source": [
    "# DELETE (del) - del is use to delete variable from the memory.\n"
   ]
  },
  {
   "cell_type": "code",
   "execution_count": 15,
   "metadata": {},
   "outputs": [
    {
     "name": "stdout",
     "output_type": "stream",
     "text": [
      "30\n"
     ]
    }
   ],
   "source": [
    "y = 20\n",
    "z = 30 \n",
    "del y\n",
    "print(z)"
   ]
  },
  {
   "cell_type": "markdown",
   "metadata": {},
   "source": [
    "\\n = escape character for new line"
   ]
  },
  {
   "cell_type": "markdown",
   "metadata": {},
   "source": [
    "end = end parameter is an optional parameter ,it prints after all the output statement have been returned."
   ]
  },
  {
   "cell_type": "markdown",
   "metadata": {},
   "source": [
    "end and sep are optional parameters of Python . The end parameter is basically prints all the output objects present in one output statement have been returned . The sep parameter differentiates between two objects . "
   ]
  },
  {
   "cell_type": "code",
   "execution_count": 19,
   "metadata": {},
   "outputs": [
    {
     "name": "stdout",
     "output_type": "stream",
     "text": [
      "THE,SIMRAN SHARMA\n",
      "THE SIMRAN SHARMA."
     ]
    }
   ],
   "source": [
    "# Example\n",
    "a=\"THE\"\n",
    "b=\"SIMRAN SHARMA\"\n",
    "print(a,b,sep=',')\n",
    "print(a,b,end='.')"
   ]
  },
  {
   "cell_type": "markdown",
   "metadata": {},
   "source": [
    "# To take input from user we use input( ) function "
   ]
  },
  {
   "cell_type": "code",
   "execution_count": 2,
   "metadata": {},
   "outputs": [
    {
     "name": "stdout",
     "output_type": "stream",
     "text": [
      "So according to you\n",
      "You are SIMRAN SHARMA\n",
      "And you live in LUCKNOW\n"
     ]
    }
   ],
   "source": [
    "name = input('What is your name? ')\n",
    "city = input('What city do you live in? ')\n",
    "print(\"So according to you\")\n",
    "print('You are', name)\n",
    "print('And you live in', city)"
   ]
  },
  {
   "cell_type": "markdown",
   "metadata": {},
   "source": [
    "# THERE ARE 2 TYPES OF STATEMENTS IN PYTHON -\n",
    "- SINGLE-LINE STATEMENT \n",
    "- MULTI-LINE STATEMENT"
   ]
  },
  {
   "cell_type": "code",
   "execution_count": 48,
   "metadata": {},
   "outputs": [
    {
     "name": "stdout",
     "output_type": "stream",
     "text": [
      "This is Python Data Science\n",
      "We are going to do code\n",
      "and learn the secret of python\n",
      "thats it\n"
     ]
    }
   ],
   "source": [
    "# SINGLE-LINE STATEMENT \n",
    "print(\"This is Python Data Science\")\n",
    "print(\"We are going to do code\")\n",
    "print(\"and learn the secret of Python\")\n",
    "print(\"that's it\")\n",
    "   "
   ]
  },
  {
   "cell_type": "code",
   "execution_count": 21,
   "metadata": {},
   "outputs": [
    {
     "name": "stdout",
     "output_type": "stream",
     "text": [
      "This is Python Datascience \n",
      " we are going to do code\n"
     ]
    }
   ],
   "source": [
    "print('This is Python Datascience \\n we are going to do code')"
   ]
  },
  {
   "cell_type": "code",
   "execution_count": 20,
   "metadata": {},
   "outputs": [
    {
     "name": "stdout",
     "output_type": "stream",
     "text": [
      "This is Python Datascience \n",
      " we are going to do code\n"
     ]
    }
   ],
   "source": [
    "print (\"This is Python Datascience \\n we are going to do code\")"
   ]
  },
  {
   "cell_type": "code",
   "execution_count": 32,
   "metadata": {},
   "outputs": [
    {
     "name": "stdout",
     "output_type": "stream",
     "text": [
      "This is PYTHON DATASCIENCE\n",
      "We are going to do code\n"
     ]
    }
   ],
   "source": [
    "print('This is PYTHON DATASCIENCE')\n",
    "print('We are going to do code')"
   ]
  },
  {
   "cell_type": "code",
   "execution_count": 38,
   "metadata": {},
   "outputs": [
    {
     "name": "stdout",
     "output_type": "stream",
     "text": [
      "This is Python Datascience course \n",
      "we are going to do code\n"
     ]
    }
   ],
   "source": [
    "# MULTI-LINE STATEMENT\n",
    "print('''This is Python Datascience course \n",
    "we are going to do code''')"
   ]
  },
  {
   "cell_type": "code",
   "execution_count": 28,
   "metadata": {},
   "outputs": [
    {
     "name": "stdout",
     "output_type": "stream",
     "text": [
      "THIS\n",
      "is\n",
      "multiline\n",
      "message\n"
     ]
    }
   ],
   "source": [
    "print('THIS')\n",
    "print('is')\n",
    "print('multiline')\n",
    "print('message')"
   ]
  },
  {
   "cell_type": "markdown",
   "metadata": {},
   "source": [
    "# LEVEL 1"
   ]
  },
  {
   "cell_type": "markdown",
   "metadata": {},
   "source": [
    "# PYTHON DATATYPES AND VARIABLES IN PROGRAMMING\n",
    "                                    "
   ]
  },
  {
   "cell_type": "markdown",
   "metadata": {},
   "source": [
    "# CODING :-\n",
    "        1. Variables\n",
    "        2. Datatypes\n",
    "        3. Keywords\n",
    "        4. Statements\n",
    "        5. Operators\n",
    "                      "
   ]
  },
  {
   "cell_type": "markdown",
   "metadata": {},
   "source": [
    "# 1. VARIABLES - are also called as containers.\n",
    "            - it can start with alphabet but can have numbers and underscores(_)\n",
    "            - but no special characters can be used in variables.\n",
    "            - storage location for data in a computer programs.\n",
    "            - it can be used to store a value and retrieve the value.\n",
    "            - value in a variable can be changed anytime by coder during execution of program.\n",
    "            - value of variables determines datatypes of the variable."
   ]
  },
  {
   "cell_type": "code",
   "execution_count": 1,
   "metadata": {},
   "outputs": [],
   "source": [
    "# Variable Example\n",
    "age=21\n",
    "color2='red'\n",
    "name='SIMRAN SHARMA'\n",
    "is_sleeping=False"
   ]
  },
  {
   "cell_type": "markdown",
   "metadata": {},
   "source": [
    "# 2. DATATYPES - THERE ARE 9 DATATYPES IN PYTHON-\n",
    "1. integer\n",
    "2. float\n",
    "3. string\n",
    "4. boolean\n",
    "5. None\n",
    "6. List[]\n",
    "7. Tuple()\n",
    "8. Set{}\n",
    "9. Dictionary{}"
   ]
  },
  {
   "cell_type": "markdown",
   "metadata": {},
   "source": [
    "# 1. INTEGER - can be of any length, it is only limited by the memory available.\n",
    "          - we can use type() function to know which class a variable or a value belongs to.\n",
    "          - it can be of any length, it is only limited by the memory available\n",
    "          - example- 1,+2,-50,319"
   ]
  },
  {
   "cell_type": "code",
   "execution_count": 30,
   "metadata": {},
   "outputs": [
    {
     "name": "stdout",
     "output_type": "stream",
     "text": [
      "21111111115423788451453121542421\n"
     ]
    }
   ],
   "source": [
    "# Integer Example\n",
    "x=21111111115423788451453121542421\n",
    "print(x)\n"
   ]
  },
  {
   "cell_type": "markdown",
   "metadata": {},
   "source": [
    "# 2. FLOATING-POINT NUMBERS - is also called as float.\n",
    "                         - is a number, positive or negative, containing one or more decimals.\n",
    "                         - we can use type() function to know which class is a variable or a value belongs to.\n",
    "                         - float can also be scientific numbers with an 'e' to indicate the power of 10\n",
    "                         - example- 1.1,2.0,-3.14,0.1111"
   ]
  },
  {
   "cell_type": "code",
   "execution_count": 50,
   "metadata": {},
   "outputs": [
    {
     "name": "stdout",
     "output_type": "stream",
     "text": [
      "1.1 1.0 -35.59 8.77e+101\n"
     ]
    }
   ],
   "source": [
    "# Floating-point Example\n",
    "x=1.10\n",
    "y=1.0\n",
    "z=-35.59\n",
    "i=87.7e100\n",
    "print(x,y,z,i)"
   ]
  },
  {
   "cell_type": "code",
   "execution_count": 49,
   "metadata": {},
   "outputs": [
    {
     "name": "stdout",
     "output_type": "stream",
     "text": [
      "x\n"
     ]
    }
   ],
   "source": [
    "x=10.0\n",
    "print('x')"
   ]
  },
  {
   "cell_type": "code",
   "execution_count": 33,
   "metadata": {},
   "outputs": [
    {
     "name": "stdout",
     "output_type": "stream",
     "text": [
      "10.0\n"
     ]
    }
   ],
   "source": [
    "x=10.0\n",
    "print(x)"
   ]
  },
  {
   "cell_type": "markdown",
   "metadata": {},
   "source": [
    "# 3. STRINGS - STRING LITERALS in python are surrounded by either single quotation marks or double quotation marks.\n",
    "          - 'hello' is same as \"hello\"\n",
    "**MULTILINE STRINGS : WE CAN ASSIGN A MULTILINE STRING TO A VARIABLE BY USING THREE QUOTES '''Hello, Let us do coding'''**"
   ]
  },
  {
   "cell_type": "code",
   "execution_count": 51,
   "metadata": {},
   "outputs": [],
   "source": [
    "# STRING EXAMPLE\n",
    "name = '''SIMRAN SHARMA'''\n",
    "age = 21\n",
    "color = '''Pink'''\n",
    "institute = '''DIGIPODIUM'''"
   ]
  },
  {
   "cell_type": "markdown",
   "metadata": {},
   "source": [
    "# 4. BOOLEAN - Boolean represents one of the two values: True or False\n",
    "          - It tells the expression state i.e True or False"
   ]
  },
  {
   "cell_type": "code",
   "execution_count": 36,
   "metadata": {},
   "outputs": [
    {
     "name": "stdout",
     "output_type": "stream",
     "text": [
      "True\n"
     ]
    }
   ],
   "source": [
    "# Boolean Example\n",
    "X=is_coding=True\n",
    "print(X)\n"
   ]
  },
  {
   "cell_type": "code",
   "execution_count": 37,
   "metadata": {},
   "outputs": [
    {
     "name": "stdout",
     "output_type": "stream",
     "text": [
      "True\n",
      "False\n"
     ]
    }
   ],
   "source": [
    "is_fun=True\n",
    "are_you_bored=False\n",
    "print(is_fun)\n",
    "print(are_you_bored)"
   ]
  },
  {
   "cell_type": "markdown",
   "metadata": {},
   "source": [
    "# 5. NONETYPE - When we don't want to store something but want to create an empty variable\n",
    "           - The None keyword is used to define a none value or no value at all\n",
    "           - None is not same as the 0, False or an empty string\n",
    "           - None is a datatype of of its (Nonetype) and only none can be none"
   ]
  },
  {
   "cell_type": "code",
   "execution_count": 2,
   "metadata": {},
   "outputs": [],
   "source": [
    "# None Example\n",
    "x = None"
   ]
  },
  {
   "cell_type": "markdown",
   "metadata": {},
   "source": [
    "**THE SPECIAL DATATYPES ARE OF 4 TYPES- LIST[], TUPLES(), SETS{} AND DICTIONARY{}**"
   ]
  },
  {
   "cell_type": "markdown",
   "metadata": {},
   "source": [
    "LISTS        l = []     - MUTABLE                - ORDERED LIST       \n",
    "TUPLE        t = ()     - IMMUTABLE              - ORDERED TUPLE      \n",
    "SETS         set={}     - MUTABLE                - UNORDERED SET      \n",
    "DICTIONARY   d = {}     - HOLDS KEY:VALUE PAIRS  - ORDERED DICTIONARY "
   ]
  },
  {
   "cell_type": "markdown",
   "metadata": {},
   "source": [
    "# 6. list[] - List is an ordered sequence of items\n",
    "       - List is the most used datatype in python and it is very useful\n",
    "       - Items in a list do not to be of the same type\n",
    "       - Items are separated by commas and are enclosed within []\n",
    "       - List are mutable (modifiable) datatypes"
   ]
  },
  {
   "cell_type": "code",
   "execution_count": 3,
   "metadata": {},
   "outputs": [
    {
     "name": "stdout",
     "output_type": "stream",
     "text": [
      "[1, 2]\n"
     ]
    }
   ],
   "source": [
    "# List Example\n",
    "List = [1,2]\n",
    "print(List)"
   ]
  },
  {
   "cell_type": "code",
   "execution_count": 2,
   "metadata": {},
   "outputs": [
    {
     "name": "stdout",
     "output_type": "stream",
     "text": [
      "[1, 2.2, 'python']\n"
     ]
    }
   ],
   "source": [
    "vals = [1, 2.2, 'python']\n",
    "print(vals)"
   ]
  },
  {
   "cell_type": "code",
   "execution_count": 3,
   "metadata": {},
   "outputs": [
    {
     "name": "stdout",
     "output_type": "stream",
     "text": [
      "['red', 'green', 'yellow']\n"
     ]
    }
   ],
   "source": [
    "colors = ['red', 'green', 'yellow']\n",
    "print(colors)"
   ]
  },
  {
   "cell_type": "markdown",
   "metadata": {},
   "source": [
    "# 7. tuple()  - Tuple is an ordered sequence of items\n",
    "           - In python tuples are written with ()\n",
    "           - And cannot change dynamically \n",
    "           - usually faster than lists\n",
    "           - Tuple are immutable (unchangeable) and are used internally by python mostly"
   ]
  },
  {
   "cell_type": "code",
   "execution_count": 7,
   "metadata": {},
   "outputs": [
    {
     "name": "stdout",
     "output_type": "stream",
     "text": [
      "(2, 4, 6, 8, 10)\n"
     ]
    }
   ],
   "source": [
    "# Tuple Example\n",
    "Tuple = (2,4,6,8,10)\n",
    "print(Tuple)"
   ]
  },
  {
   "cell_type": "code",
   "execution_count": 4,
   "metadata": {},
   "outputs": [
    {
     "name": "stdout",
     "output_type": "stream",
     "text": [
      "(1, 20.0, 'SIMRAN SHARMA')\n"
     ]
    }
   ],
   "source": [
    "vals = (1,20.0,\"SIMRAN SHARMA\")\n",
    "print(vals)"
   ]
  },
  {
   "cell_type": "code",
   "execution_count": 6,
   "metadata": {},
   "outputs": [
    {
     "name": "stdout",
     "output_type": "stream",
     "text": [
      "('red', 'yellow', 'blue')\n"
     ]
    }
   ],
   "source": [
    "colors = ('red', 'yellow', 'blue')\n",
    "print(colors)"
   ]
  },
  {
   "cell_type": "markdown",
   "metadata": {},
   "source": [
    "# 8. set{} - Sets is an unordered collection of unique items\n",
    "        - Sets have unique values\n",
    "        - Sets eliminates duplicates \n",
    "        - Set operations like- intersection, union, difference, etc on two sets\n",
    "        - Sets are mutuable datatypes"
   ]
  },
  {
   "cell_type": "code",
   "execution_count": 8,
   "metadata": {},
   "outputs": [
    {
     "name": "stdout",
     "output_type": "stream",
     "text": [
      "{1, 2, 3, 4, 5, 6, 7, 8, 9, 10}\n"
     ]
    }
   ],
   "source": [
    "# Sets Example\n",
    "Sets = {1,2,3,4,5,6,7,8,9,10,10}\n",
    "print(Sets)"
   ]
  },
  {
   "cell_type": "code",
   "execution_count": 9,
   "metadata": {},
   "outputs": [
    {
     "name": "stdout",
     "output_type": "stream",
     "text": [
      "{'SIMRAN', 'Age', 'simran21@gmail.com', 21, 'Email'}\n"
     ]
    }
   ],
   "source": [
    "Sets = {'SIMRAN','Email','simran21@gmail.com','Age',21}\n",
    "print(Sets)"
   ]
  },
  {
   "cell_type": "markdown",
   "metadata": {},
   "source": [
    "# 9. dict{} - It is an ordered collection of Key-value pairs(3,7)\n",
    "            - It is used when we have huge amount of data\n",
    "            - Items in a dictionary do not to be of same type\n",
    "            - Key and value can be of any type\n",
    "            - dict{ }\n",
    "            - Each item being a pair in the form of key:value"
   ]
  },
  {
   "cell_type": "code",
   "execution_count": 11,
   "metadata": {},
   "outputs": [],
   "source": [
    "# Dictionary Example\n",
    "car_info = {\n",
    "    \"Brand\" : \"Ford\",\n",
    "    \"Model\" : \"Mustang\",\n",
    "    \"Year\" : \"1964\"\n",
    "}"
   ]
  },
  {
   "cell_type": "markdown",
   "metadata": {},
   "source": [
    "# LEVEL 2"
   ]
  },
  {
   "cell_type": "markdown",
   "metadata": {},
   "source": [
    "# CODING :-\n",
    "        1. Variables\n",
    "        2. Datatypes\n",
    "        3. Keywords\n",
    "        4. Statements\n",
    "        5. Operators\n",
    "                      "
   ]
  },
  {
   "cell_type": "markdown",
   "metadata": {},
   "source": [
    "**WHEN WE ASK INPUT FROM THE USER , THEN WE USE INPUT() FUNCTION TO PERFORM OPERATIONS AND RETURN SOME OUTPUT**"
   ]
  },
  {
   "cell_type": "code",
   "execution_count": 13,
   "metadata": {},
   "outputs": [
    {
     "name": "stdout",
     "output_type": "stream",
     "text": [
      "Hello, I am SIMRAN SHARMA\n",
      "My age is 21\n"
     ]
    }
   ],
   "source": [
    "#INPUT BY USER IS DONE BY USING input() function\n",
    "name=input('What is your name')\n",
    "age=input('Tell me your age')\n",
    "print('Hello, I am' , name)\n",
    "print('My age is', age)"
   ]
  },
  {
   "cell_type": "markdown",
   "metadata": {},
   "source": [
    "# 3. KEYWORDS IN PYTHON - THERE ARE 35 KEYWORDS IN PYTHON\n",
    "                     - Keywords are special reserved words in python , which conveys special meaning\n",
    "                     - They are used to define the structure and syntax of the python program\n",
    "                     - It can't be used for anything but those specific purposes\n",
    "                     - They are Case-Sensitive"
   ]
  },
  {
   "cell_type": "markdown",
   "metadata": {},
   "source": [
    "# 35 TYPES OF KEYWORDS IN PYTHON 3.9.0 :-\n",
    "01. False\n",
    "02. None\n",
    "03. True\n",
    "04. and\n",
    "05. as\n",
    "06. assert\n",
    "07. async\n",
    "08. await \n",
    "09. break\n",
    "10. class\n",
    "11. continue\n",
    "12. def\n",
    "13. del\n",
    "14. elif\n",
    "15. else\n",
    "16. except\n",
    "17. finally \n",
    "18. for\n",
    "19. from\n",
    "20. global\n",
    "21. if\n",
    "22. import\n",
    "23. in \n",
    "24. is\n",
    "25. lambda\n",
    "26. nonlocal\n",
    "27. not\n",
    "28. or\n",
    "29. pass\n",
    "30. raise\n",
    "31. return\n",
    "32. try\n",
    "33. while\n",
    "34. with\n",
    "35. yield"
   ]
  },
  {
   "cell_type": "markdown",
   "metadata": {},
   "source": [
    "# 4. STATEMENTS - "
   ]
  },
  {
   "cell_type": "markdown",
   "metadata": {},
   "source": [
    "# THERE ARE TWO TYPES OF STATEMENTS :-\n",
    "   1. SINGLE-LINE STATEMENT\n",
    "   2. MULTI-LINE STATEMENT"
   ]
  },
  {
   "cell_type": "code",
   "execution_count": 1,
   "metadata": {},
   "outputs": [
    {
     "name": "stdout",
     "output_type": "stream",
     "text": [
      "This is Python Data Science\n",
      "We are going to do code\n",
      "and learn the secret of Python\n",
      "that's it\n"
     ]
    }
   ],
   "source": [
    "# SINGLE-LINE STATEMENT \n",
    "print(\"This is Python Data Science\")\n",
    "print(\"We are going to do code\")\n",
    "print(\"and learn the secret of Python\")\n",
    "print(\"that's it\")\n",
    "   "
   ]
  },
  {
   "cell_type": "code",
   "execution_count": 11,
   "metadata": {},
   "outputs": [
    {
     "name": "stdout",
     "output_type": "stream",
     "text": [
      "Simran Sharma \n",
      " Age is 21\n"
     ]
    }
   ],
   "source": [
    "print('Simran Sharma \\n Age is 21')"
   ]
  },
  {
   "cell_type": "code",
   "execution_count": 14,
   "metadata": {},
   "outputs": [
    {
     "name": "stdout",
     "output_type": "stream",
     "text": [
      "This is python datascience\n",
      "We are going to do code\n"
     ]
    }
   ],
   "source": [
    "# MULTI-LINE STATEMENT\n",
    "print('''This is python datascience\n",
    "We are going to do code''')"
   ]
  },
  {
   "cell_type": "markdown",
   "metadata": {},
   "source": [
    "# 5. OPERATORS - OPERATORS ARE USED TO PERFORM OPERATIONS ON VARIABLES AND VALUES"
   ]
  },
  {
   "cell_type": "markdown",
   "metadata": {},
   "source": [
    "# OPERATORS IN PYTHON - THERE ARE 7 OPERATORS IN PYTHON :-\n",
    "    1. ARITHMETIC OPERATOR\n",
    "    2. ASSIGNMENT OPERATOR\n",
    "    3. COMPARISON OPERATOR\n",
    "    4. LOGICAL OPERATOR\n",
    "    5. IDENTITY OPERATOR\n",
    "    6. MEMBERSHIP OPERATOR\n",
    "    7. BITWISE OPERATOR\n",
    "                      "
   ]
  },
  {
   "cell_type": "markdown",
   "metadata": {},
   "source": [
    "# 1. Arithmetic Operators"
   ]
  },
  {
   "cell_type": "code",
   "execution_count": 3,
   "metadata": {},
   "outputs": [
    {
     "name": "stdout",
     "output_type": "stream",
     "text": [
      "133\n",
      "67\n",
      "3300\n",
      "3.0303030303030303\n",
      "3\n",
      "3\n",
      "1000000000000000000000000000000000000000000000000000000000000000000\n"
     ]
    }
   ],
   "source": [
    "# Arithmetic operators Example\n",
    "a = 100\n",
    "b = 33\n",
    "\n",
    "print( a + b ) # add\n",
    "print( a - b ) # sub\n",
    "print( a * b ) # mul\n",
    "print( a / b ) # float div\n",
    "print( a // b ) # int div\n",
    "print( 23 % 5 ) # remaider\n",
    "print( a ** b) # exponentiation"
   ]
  },
  {
   "cell_type": "markdown",
   "metadata": {},
   "source": [
    "# 2. Assignment Operators"
   ]
  },
  {
   "cell_type": "code",
   "execution_count": 6,
   "metadata": {},
   "outputs": [],
   "source": [
    "# assignment operators\n",
    "a = 10\n",
    "b = 5\n",
    "c = 3\n",
    "# alternate way to assign a value to a variable\n",
    "x, y, z = 10, 20, 30"
   ]
  },
  {
   "cell_type": "code",
   "execution_count": 16,
   "metadata": {},
   "outputs": [
    {
     "name": "stdout",
     "output_type": "stream",
     "text": [
      "25 15\n"
     ]
    }
   ],
   "source": [
    "# Assignment Operators Example\n",
    "x = 25\n",
    "y = 15\n",
    "print(x, y)"
   ]
  },
  {
   "cell_type": "markdown",
   "metadata": {},
   "source": [
    "# For updating"
   ]
  },
  {
   "cell_type": "code",
   "execution_count": 7,
   "metadata": {},
   "outputs": [],
   "source": [
    "a += 2 # update a with a + 2"
   ]
  },
  {
   "cell_type": "code",
   "execution_count": 17,
   "metadata": {},
   "outputs": [
    {
     "name": "stdout",
     "output_type": "stream",
     "text": [
      "30 10\n"
     ]
    }
   ],
   "source": [
    "# For updating Example\n",
    "x += 5\n",
    "y -= 5\n",
    "print(x, y)"
   ]
  },
  {
   "cell_type": "code",
   "execution_count": 18,
   "metadata": {},
   "outputs": [
    {
     "name": "stdout",
     "output_type": "stream",
     "text": [
      "60 1\n"
     ]
    }
   ],
   "source": [
    "x *= 2\n",
    "y %= 3\n",
    "print(x, y)"
   ]
  },
  {
   "cell_type": "code",
   "execution_count": 19,
   "metadata": {},
   "outputs": [
    {
     "name": "stdout",
     "output_type": "stream",
     "text": [
      "6.0 5\n"
     ]
    }
   ],
   "source": [
    "x /= 10\n",
    "y *= 5\n",
    "print(x, y)"
   ]
  },
  {
   "cell_type": "code",
   "execution_count": 20,
   "metadata": {},
   "outputs": [
    {
     "name": "stdout",
     "output_type": "stream",
     "text": [
      "36.0 2\n"
     ]
    }
   ],
   "source": [
    "x **= 2\n",
    "y //= 2\n",
    "print(x,y)"
   ]
  },
  {
   "cell_type": "markdown",
   "metadata": {},
   "source": [
    "# 3. Comparison Operators - compares two values and returns a boolean value, either true or false. Python has 6 comparison operators\n"
   ]
  },
  {
   "cell_type": "code",
   "execution_count": 9,
   "metadata": {},
   "outputs": [
    {
     "name": "stdout",
     "output_type": "stream",
     "text": [
      "True\n",
      "True\n",
      "False\n",
      "False\n",
      "False\n",
      "True\n"
     ]
    }
   ],
   "source": [
    "# comparison operators\n",
    "print(a > b)  # greater than\n",
    "print(a >= b) # greater than or equal to\n",
    "print(a < b)  # less than\n",
    "print(a <= b) # less than or equal to\n",
    "print(a == b) # equal to\n",
    "print(a != b) # not equal to"
   ]
  },
  {
   "cell_type": "code",
   "execution_count": 21,
   "metadata": {},
   "outputs": [
    {
     "name": "stdout",
     "output_type": "stream",
     "text": [
      "True\n",
      "False\n",
      "True\n",
      "False\n",
      "True\n",
      "False\n"
     ]
    }
   ],
   "source": [
    "# Comparison Operator Example\n",
    "print(a > b) # greater than\n",
    "print(a < b) # less than\n",
    "print(a >= b) # greater than equals to\n",
    "print(a <= b) # less than equals to\n",
    "print(a != b) # not equals to \n",
    "print(a == b) # equals to"
   ]
  },
  {
   "cell_type": "markdown",
   "metadata": {},
   "source": [
    "# 4. Logical operators - used to combine conditional statements."
   ]
  },
  {
   "cell_type": "code",
   "execution_count": 8,
   "metadata": {},
   "outputs": [
    {
     "name": "stdout",
     "output_type": "stream",
     "text": [
      "True\n",
      "False\n",
      "True\n",
      "True\n",
      "False\n",
      "True\n",
      "False\n",
      "False\n"
     ]
    }
   ],
   "source": [
    "# logical oprerators (and, or, not)\n",
    "print(a > b and a > 5)\n",
    "print(a < b and a > 5)\n",
    "print(a > b or a > 5)\n",
    "print(a < b or a > 5)\n",
    "print(a < b or a < 5)\n",
    "print(not a < b)\n",
    "print(not a > b)\n",
    "print(not a and not b and not c)"
   ]
  },
  {
   "cell_type": "code",
   "execution_count": 22,
   "metadata": {},
   "outputs": [
    {
     "name": "stdout",
     "output_type": "stream",
     "text": [
      "False\n",
      "True\n",
      "False\n"
     ]
    }
   ],
   "source": [
    "# Logical operators Example\n",
    "print(a > b and a < b)  # When both condition true\n",
    "print(a > b or a < b) # return true if one statement is true \n",
    "print(not (a  > b and a  > b))"
   ]
  },
  {
   "cell_type": "markdown",
   "metadata": {},
   "source": [
    "# 5. Bitwise Operators - are used to compare binary numbers\n",
    " # There are 6 types = &, |, ^, ~, <<, >>"
   ]
  },
  {
   "cell_type": "markdown",
   "metadata": {},
   "source": [
    "# 6. Membership Operators - are used to test if a sequence is presented in an object or for searching of an item (case sensitive)"
   ]
  },
  {
   "cell_type": "code",
   "execution_count": 10,
   "metadata": {},
   "outputs": [
    {
     "name": "stdout",
     "output_type": "stream",
     "text": [
      "True\n",
      "False\n",
      "False\n",
      "True\n",
      "True\n",
      "False\n"
     ]
    }
   ],
   "source": [
    "# membership operators (in)\n",
    "colors = ['red','blue','green','yellow','orange']\n",
    "print('red' in colors)\n",
    "print('Red' in colors)\n",
    "print('RED' in colors)\n",
    "print('blue' in colors)\n",
    "print('yellow' in colors)\n",
    "print('purple' in colors)"
   ]
  },
  {
   "cell_type": "code",
   "execution_count": 11,
   "metadata": {},
   "outputs": [
    {
     "name": "stdout",
     "output_type": "stream",
     "text": [
      "True\n",
      "False\n"
     ]
    }
   ],
   "source": [
    "msg = \"Its the journey that matters\"\n",
    "print('journey' in msg)\n",
    "print('destination' in msg)"
   ]
  },
  {
   "cell_type": "code",
   "execution_count": 23,
   "metadata": {},
   "outputs": [
    {
     "name": "stdout",
     "output_type": "stream",
     "text": [
      "True\n",
      "True\n"
     ]
    }
   ],
   "source": [
    "colors = ['red', 'black','white','pink','yellow']\n",
    "print('red' in colors)\n",
    "print('green' not in colors)"
   ]
  },
  {
   "cell_type": "markdown",
   "metadata": {},
   "source": [
    "# is Operator - to check whether two object belong same memory location or not"
   ]
  },
  {
   "cell_type": "markdown",
   "metadata": {},
   "source": [
    "# Questions:\n",
    "\n",
    "- wap to calculate the area of a circle\n",
    "- wap to calculate the area of a rectangle\n",
    "- wap to calculate the area of a triangle\n",
    "- wap to calculate the hypotenus using perpendicular and base\n",
    "- wap to calculate a factorial of 5"
   ]
  },
  {
   "cell_type": "markdown",
   "metadata": {},
   "source": [
    " # Q1. WAP to calculate the area of a cicle"
   ]
  },
  {
   "cell_type": "code",
   "execution_count": 24,
   "metadata": {},
   "outputs": [
    {
     "name": "stdout",
     "output_type": "stream",
     "text": [
      "314.0 for a circle\n"
     ]
    }
   ],
   "source": [
    "radius = 10\n",
    "area = 3.14 * radius ** 2\n",
    "print (area ,\"for a circle\")"
   ]
  },
  {
   "cell_type": "code",
   "execution_count": 4,
   "metadata": {},
   "outputs": [
    {
     "name": "stdout",
     "output_type": "stream",
     "text": [
      "12.56 for a circle with radius 2\n"
     ]
    }
   ],
   "source": [
    "radius = int(input(\"enter the radius of a circle\"))\n",
    "area = 3.14 * radius ** 2\n",
    "print (area, \"for a circle with radius\",radius)"
   ]
  },
  {
   "cell_type": "markdown",
   "metadata": {},
   "source": [
    "# Q2. WAP to calculate the area of the rectangle"
   ]
  },
  {
   "cell_type": "code",
   "execution_count": 26,
   "metadata": {},
   "outputs": [
    {
     "name": "stdout",
     "output_type": "stream",
     "text": [
      "the area of the rectangle is 156\n"
     ]
    }
   ],
   "source": [
    "l = 12\n",
    "b = 13\n",
    "print (\"the area of the rectangle is\",l * b)"
   ]
  },
  {
   "cell_type": "code",
   "execution_count": 30,
   "metadata": {},
   "outputs": [
    {
     "name": "stdout",
     "output_type": "stream",
     "text": [
      "156.0 the area of a rectangle\n"
     ]
    }
   ],
   "source": [
    "length = float(input(\"Enter the length of rectangle\"))\n",
    "breadth = float(input(\"enter the breadth of rectangle\"))\n",
    "print (length * breadth, \"the area of a rectangle\")"
   ]
  },
  {
   "cell_type": "markdown",
   "metadata": {},
   "source": [
    "# Q3. WAP to calculate the area of a triangle"
   ]
  },
  {
   "cell_type": "code",
   "execution_count": 31,
   "metadata": {},
   "outputs": [
    {
     "name": "stdout",
     "output_type": "stream",
     "text": [
      "78.0  is the area of the triangle\n"
     ]
    }
   ],
   "source": [
    "height = int(input(\"enter the height of the triangle\"))\n",
    "base = int(input(\"enter the base of the triangle\"))\n",
    "print (0.5 * height * base,\" is the area of the triangle\")"
   ]
  },
  {
   "cell_type": "markdown",
   "metadata": {},
   "source": [
    "# Q4. WAP to calculate the hypotenuse using base and perpendicular\n"
   ]
  },
  {
   "cell_type": "code",
   "execution_count": 2,
   "metadata": {},
   "outputs": [
    {
     "name": "stdout",
     "output_type": "stream",
     "text": [
      "5 is the hypotenuse\n"
     ]
    }
   ],
   "source": [
    "p = int(input(\"enter the perpendicular \"))\n",
    "b = int(input(\"enter the base\"))\n",
    "print (p * p + b * b, \"is the hypotenuse\")"
   ]
  },
  {
   "cell_type": "markdown",
   "metadata": {},
   "source": [
    "# Q5. WAP to calculate a factorial of 5"
   ]
  },
  {
   "cell_type": "code",
   "execution_count": 3,
   "metadata": {},
   "outputs": [
    {
     "ename": "NameError",
     "evalue": "name 'math' is not defined",
     "output_type": "error",
     "traceback": [
      "\u001b[1;31m---------------------------------------------------------------------------\u001b[0m",
      "\u001b[1;31mNameError\u001b[0m                                 Traceback (most recent call last)",
      "\u001b[1;32mc:\\Users\\hp\\Documents\\Python_Data_Science\\basics\\basics.ipynb Cell 110\u001b[0m in \u001b[0;36m<cell line: 2>\u001b[1;34m()\u001b[0m\n\u001b[0;32m      <a href='vscode-notebook-cell:/c%3A/Users/hp/Documents/Python_Data_Science/basics/basics.ipynb#Y214sZmlsZQ%3D%3D?line=0'>1</a>\u001b[0m num \u001b[39m=\u001b[39m \u001b[39mint\u001b[39m(\u001b[39minput\u001b[39m(\u001b[39m'\u001b[39m\u001b[39menter a number: \u001b[39m\u001b[39m'\u001b[39m))\n\u001b[1;32m----> <a href='vscode-notebook-cell:/c%3A/Users/hp/Documents/Python_Data_Science/basics/basics.ipynb#Y214sZmlsZQ%3D%3D?line=1'>2</a>\u001b[0m fact \u001b[39m=\u001b[39m math\u001b[39m.\u001b[39mfactorial(num)\n\u001b[0;32m      <a href='vscode-notebook-cell:/c%3A/Users/hp/Documents/Python_Data_Science/basics/basics.ipynb#Y214sZmlsZQ%3D%3D?line=2'>3</a>\u001b[0m \u001b[39mprint\u001b[39m(\u001b[39m'\u001b[39m\u001b[39mFactorial of\u001b[39m\u001b[39m'\u001b[39m, num, \u001b[39m'\u001b[39m\u001b[39mis\u001b[39m\u001b[39m'\u001b[39m, fact)\n",
      "\u001b[1;31mNameError\u001b[0m: name 'math' is not defined"
     ]
    }
   ],
   "source": [
    "num = int(input('enter a number: '))\n",
    "fact = math.factorial(num)\n",
    "print('Factorial of', num, 'is', fact)"
   ]
  }
 ],
 "metadata": {
  "kernelspec": {
   "display_name": "Python 3.9.13 ('base')",
   "language": "python",
   "name": "python3"
  },
  "language_info": {
   "codemirror_mode": {
    "name": "ipython",
    "version": 3
   },
   "file_extension": ".py",
   "mimetype": "text/x-python",
   "name": "python",
   "nbconvert_exporter": "python",
   "pygments_lexer": "ipython3",
   "version": "3.9.13"
  },
  "orig_nbformat": 4,
  "vscode": {
   "interpreter": {
    "hash": "79d71d161e7943240a345005223b4b57f09b9732a24e4917a9c0467b3aef16ea"
   }
  }
 },
 "nbformat": 4,
 "nbformat_minor": 2
}
