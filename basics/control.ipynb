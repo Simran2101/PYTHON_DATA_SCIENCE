{
 "cells": [
  {
   "cell_type": "markdown",
   "metadata": {},
   "source": [
    "# LOOP IS A PROGRAMMING CONSTRUCT THAT ALLOWS US TO REPEAT A SET OF INTSRUCTIONS MULTIPLE TIMES.\n",
    "\n",
    "# LOOP MAKES OUR CODE EFFICIENT BY NOT WRITING THE SAME SET OF INSTRUCTIONS/CODE MULTIPLE TIMES.\n",
    "\n",
    "# LOOPS CAN BE ENTERED MANUALLY, BUT ARE OFTEN EXECUTED AUTOMATICALLY BY THE COMPUTER.\n",
    "\n",
    "#The loop in which test condition is checked in the beginning of the loop are known as entry controlled loop. For Example: for and while loop. \n",
    "\n",
    "#Whereas when statements inside the loop body is executed and then the condition is checked that loop is known to be as exit controlled loop.\n"
   ]
  },
  {
   "cell_type": "markdown",
   "metadata": {},
   "source": [
    "# CONTROL - CONDITIONS"
   ]
  },
  {
   "cell_type": "markdown",
   "metadata": {},
   "source": [
    "#1. if (single condition based prog. used with if only) \n",
    "\n",
    "#2. if-else (complete condition based prog. used with if else both) \n",
    "\n",
    "#3. if elif else (multiple condition based prog. used with if elif and else)\n",
    "\n",
    "# LOOPS ARE OF 2 TYPES -\n",
    "1. ENTRY-CONTROL LOOPS (FOR AND WHILE LOOP)\n",
    "Entry controlled loop is a loop in which the test condition is checked first, and then the loop body will be executed. If the test condition is false, the loop body will not be executed, For Loop and While Loop is the example of Entry controlled loop.\n",
    "\n",
    "2. EXIT-CONTROL LOOPS (DO-WHILE LOOP)\n",
    "Whereas when statements inside the loop body is executed and then the condition is checked that loop is known to be as exit controlled loop. For Example: do-while loop."
   ]
  },
  {
   "cell_type": "markdown",
   "metadata": {},
   "source": [
    "# PROGRAM CONTROL STATEMENTS\n",
    "1. SINGLE CONDITION BASED PROGRAMS (if)\n",
    "2. COMPLETE CONDITION LOGIC (if-else)\n",
    "3. MULTIPLE CONDITION LOGIC (if elif else) OR (Nested if)\n"
   ]
  },
  {
   "cell_type": "markdown",
   "metadata": {},
   "source": [
    "# BLOCK CODE \n",
    "- WITH HELP OF INDENTATION WE USE BLOCK CODE\n",
    "- : STARTS WITH THIS SYMBOL OF THE CODE BLOCK\n",
    "- we can't use { } for bocks in python so indentation is introduced\n",
    "- : shows starting of the block"
   ]
  },
  {
   "cell_type": "markdown",
   "metadata": {},
   "source": [
    "\n",
    "# if\n",
    "if expression : statement 1 statement 2 ... statement n"
   ]
  },
  {
   "cell_type": "code",
   "execution_count": 1,
   "metadata": {},
   "outputs": [
    {
     "name": "stdout",
     "output_type": "stream",
     "text": [
      "Number is even\n",
      "the end\n"
     ]
    }
   ],
   "source": [
    "x=40\n",
    "if x%2==0 : \n",
    "    print(\"Number is even\")\n",
    "   \n",
    "print(\"the end\") "
   ]
  },
  {
   "cell_type": "code",
   "execution_count": 2,
   "metadata": {},
   "outputs": [
    {
     "name": "stdout",
     "output_type": "stream",
     "text": [
      "Number is numeric so good job dude\n"
     ]
    }
   ],
   "source": [
    "num=input(\"Enter a number\" )\n",
    "if num.isnumeric() :\n",
    "    print(\"Number is numeric so good job dude\")\n",
    "else:\n",
    "    print(\"Number is not numeric\")"
   ]
  },
  {
   "cell_type": "code",
   "execution_count": 3,
   "metadata": {},
   "outputs": [
    {
     "name": "stdout",
     "output_type": "stream",
     "text": [
      "Number is numeric\n"
     ]
    }
   ],
   "source": [
    "num=input(\"enter a number\")\n",
    "if num.isnumeric():\n",
    "    print(\"Number is numeric\")\n",
    "    num=int(num) ##input must be int it checks that it does not work with float\n",
    "else:\n",
    "    print(\"Number is not numeric\")    "
   ]
  },
  {
   "cell_type": "markdown",
   "metadata": {},
   "source": [
    "# if-else\n"
   ]
  },
  {
   "cell_type": "code",
   "execution_count": 5,
   "metadata": {},
   "outputs": [
    {
     "name": "stdout",
     "output_type": "stream",
     "text": [
      "Well done\n"
     ]
    }
   ],
   "source": [
    "# TO CHECK INPUT IS NUMERIC\n",
    "num = input(\"enter a num\")\n",
    "if num.isnumeric() :\n",
    "    print(\"Well done\")\n",
    "    num = int(num)\n",
    "else :  \n",
    "    print(\"Bad input\")"
   ]
  },
  {
   "cell_type": "code",
   "execution_count": 3,
   "metadata": {},
   "outputs": [
    {
     "data": {
      "text/plain": [
       "True"
      ]
     },
     "execution_count": 3,
     "metadata": {},
     "output_type": "execute_result"
    }
   ],
   "source": [
    "a = \"1\" # variable\n",
    "a.isnumeric()"
   ]
  },
  {
   "cell_type": "markdown",
   "metadata": {},
   "source": [
    "# Nested if - to place one if inside another if statement"
   ]
  },
  {
   "cell_type": "code",
   "execution_count": 15,
   "metadata": {},
   "outputs": [
    {
     "name": "stdout",
     "output_type": "stream",
     "text": [
      "Welcome to Studio\n"
     ]
    }
   ],
   "source": [
    "#NESTING CONDITION\n",
    "#Username='SIMRAN SHARMA'\n",
    "#email='ssimran@gmail.com'\n",
    "#password=\"qwerty\"\n",
    "username = input('enter name')\n",
    "email = input('enter email')\n",
    "password = input('enter password')\n",
    "if username == 'SIMRAN SHARMA' :\n",
    "    if email == 'ssimran@gmail.com':\n",
    "        if password == 'qwerty':\n",
    "            print(\"Welcome to Studio\")\n",
    "        else:\n",
    "            print(\"Wrong password\")\n",
    "    else:\n",
    "        print(\"Wrong email\")\n",
    "else:\n",
    "     print(\"Wrong username\")\n",
    "\n",
    "    \n"
   ]
  },
  {
   "cell_type": "code",
   "execution_count": 12,
   "metadata": {},
   "outputs": [
    {
     "name": "stdout",
     "output_type": "stream",
     "text": [
      "Welcome to Studio\n"
     ]
    }
   ],
   "source": [
    "#using ladder if(multiple if)\n",
    "#username = 'SIMRAN SHARMA'\n",
    "#email = 'ssimran@gmail.com\n",
    "#password = 'qwerty'\n",
    "username = input('Enter name')\n",
    "password = input('Enter password')\n",
    "email = input('Enter email')\n",
    "if username  == 'SIMRAN SHARMA':\n",
    "    print(\"Wrong name\")\n",
    "elif email == 'ssimran@gmail.com':\n",
    "    print(\"Wrong email\")\n",
    "elif password == 'qwerty':\n",
    "     print(\"Wrong password\")\n",
    "else:\n",
    "    print(\"Welcome to Studio\")\n",
    "        "
   ]
  },
  {
   "cell_type": "markdown",
   "metadata": {},
   "source": [
    "wap to calculate the grade of student based on the marks with the following rules:\n",
    "\n",
    "- if marks >= 90 grade is A\n",
    "- if marks >=80 grade is B\n",
    "- if marks >=70 grade is C\n",
    "- if marks >=60 grade is D\n",
    "- if marks < 60 grade is F\n",
    "- if marks is not a number grade is \"invalid\""
   ]
  },
  {
   "cell_type": "code",
   "execution_count": 22,
   "metadata": {},
   "outputs": [
    {
     "name": "stdout",
     "output_type": "stream",
     "text": [
      "Grade is A\n"
     ]
    }
   ],
   "source": [
    "marks = input(\"enter your marks\")\n",
    "if not marks.isnumeric():\n",
    "    print(\"Invalid\") \n",
    "else:\n",
    "    marks = int(marks)\n",
    "    if marks >= 90:\n",
    "        print(\"Grade is A\")\n",
    "    elif marks >= 80:\n",
    "        print(\"Grade is B\")\n",
    "    elif marks >= 70:\n",
    "        print(\"grade is C\")\n",
    "    elif marks >= 60:\n",
    "        print(\"D\")\n",
    "    else:    \n",
    "        print(\"Invalid Marks\")"
   ]
  },
  {
   "cell_type": "code",
   "execution_count": 16,
   "metadata": {},
   "outputs": [
    {
     "name": "stdout",
     "output_type": "stream",
     "text": [
      "Grade is A\n"
     ]
    }
   ],
   "source": [
    "marks = input(\"Enter your marks\")\n",
    "if marks.isnumeric():\n",
    "    marks = int(marks)\n",
    "    if marks >= 90:\n",
    "         print(\"Grade is A\")\n",
    "    elif marks >= 80:\n",
    "         print(\"Grade is B\")\n",
    "    elif marks >= 70:\n",
    "         print(\"grade is C\")\n",
    "    elif marks >= 60:\n",
    "         print(\"D\")\n",
    "    else:\n",
    "         print(\"grade is F\")\n",
    "else:         \n",
    "    print(\"Invalid Marks\")"
   ]
  },
  {
   "cell_type": "markdown",
   "metadata": {},
   "source": [
    "# Loops in python\n",
    "- for\n",
    "- while"
   ]
  },
  {
   "cell_type": "markdown",
   "metadata": {},
   "source": [
    "#for loop syntax\n",
    "for <variable> in <sequence> :\n",
    "    statement 1\n",
    "\n",
    "    statement 2\n",
    "\n",
    "    statement 3\n",
    "    \n",
    "    . . .\n",
    "    statement n"
   ]
  },
  {
   "cell_type": "markdown",
   "metadata": {},
   "source": [
    "# for loop is iterable\n",
    "\n",
    "for var in iterable: statement 1 .... statement n"
   ]
  },
  {
   "cell_type": "code",
   "execution_count": 25,
   "metadata": {},
   "outputs": [
    {
     "data": {
      "text/plain": [
       "8"
      ]
     },
     "execution_count": 25,
     "metadata": {},
     "output_type": "execute_result"
    }
   ],
   "source": [
    "#word counting\n",
    "word = 'volkegan'\n",
    "len(word)"
   ]
  },
  {
   "cell_type": "code",
   "execution_count": 3,
   "metadata": {},
   "outputs": [
    {
     "name": "stdout",
     "output_type": "stream",
     "text": [
      "P\n",
      "Y\n",
      "T\n",
      "H\n",
      "O\n",
      "N\n"
     ]
    }
   ],
   "source": [
    "x = \"PYTHON\"\n",
    "for i in x:\n",
    "    print(i)"
   ]
  },
  {
   "cell_type": "markdown",
   "metadata": {},
   "source": [
    "# STRING SETTINGS - can be changed in python\n",
    "- r = raw string #addresses in \"\" \n",
    "when we want address no characters as it is written without any changes we use it in regular expressions \n",
    "\n",
    "- f = formatted string\n",
    "we want to put variables in strings\n",
    "\n",
    "- b = byte string"
   ]
  },
  {
   "cell_type": "markdown",
   "metadata": {},
   "source": [
    "r\"C:\\Users\"\\SIMRAN\\DOCUMENTS\\coding\\DP JUL PYDS WSS 100\\t2.py\""
   ]
  },
  {
   "cell_type": "code",
   "execution_count": 8,
   "metadata": {},
   "outputs": [
    {
     "name": "stdout",
     "output_type": "stream",
     "text": [
      "I can count 10 Birds on the roof of my house\n"
     ]
    }
   ],
   "source": [
    "a=10\n",
    "b=\"Birds\"\n",
    "print(\"I can count\", a , b,\"on the roof of my house\")"
   ]
  },
  {
   "cell_type": "code",
   "execution_count": 4,
   "metadata": {},
   "outputs": [
    {
     "name": "stdout",
     "output_type": "stream",
     "text": [
      "i can count 10 birds on the roof of my house\n"
     ]
    }
   ],
   "source": [
    "a=10\n",
    "b=\"birds\"\n",
    "print(f\"i can count {a} {b} on the roof of my house\")"
   ]
  },
  {
   "cell_type": "code",
   "execution_count": 28,
   "metadata": {},
   "outputs": [
    {
     "name": "stdout",
     "output_type": "stream",
     "text": [
      "i have apple\n",
      "i have banana\n",
      "i have orange\n",
      "i have lemon\n"
     ]
    }
   ],
   "source": [
    "fruits = ['apple' , 'banana' , 'orange' , 'lemon']\n",
    "for item in fruits:\n",
    "    print(f'i have {item}') #Formatted string"
   ]
  },
  {
   "cell_type": "markdown",
   "metadata": {},
   "source": [
    "# range() defines how many times a loop will run\n",
    "✔start : start value of the loop(optional) \n",
    "\n",
    "✔stop : end value(must) \n",
    "\n",
    "✔step : gap between two consecutive terms\n",
    "\n",
    "example\n",
    "range(1,20) the range will be from 2 to 19 ,20 is the stopping value range(1,20,3)the range will be from 2 to 19 with the gap of 3"
   ]
  },
  {
   "cell_type": "markdown",
   "metadata": {},
   "source": [
    "# range()\n",
    "we can use the python range() function to define the limit \n",
    "\n"
   ]
  },
  {
   "cell_type": "code",
   "execution_count": 9,
   "metadata": {},
   "outputs": [
    {
     "name": "stdout",
     "output_type": "stream",
     "text": [
      "you got point 0\n",
      "you got point 1\n",
      "you got point 2\n",
      "you got point 3\n",
      "you got point 4\n",
      "you got point 5\n"
     ]
    }
   ],
   "source": [
    "for i in range(6):\n",
    "    print ('you got point' ,i)"
   ]
  },
  {
   "cell_type": "code",
   "execution_count": 5,
   "metadata": {},
   "outputs": [
    {
     "name": "stdout",
     "output_type": "stream",
     "text": [
      "congrats you win\n",
      "\n",
      "1\n",
      "2\n",
      "3\n",
      "4\n",
      "5\n"
     ]
    }
   ],
   "source": [
    "print(\"congrats you win\\n\")\n",
    "for i in range(1,6):\n",
    "    print(i)"
   ]
  },
  {
   "cell_type": "code",
   "execution_count": 10,
   "metadata": {},
   "outputs": [
    {
     "name": "stdout",
     "output_type": "stream",
     "text": [
      "level 1\n",
      "level 4\n",
      "level 7\n"
     ]
    }
   ],
   "source": [
    "for num in range(1,10,3):\n",
    "    print('level' ,num)"
   ]
  },
  {
   "cell_type": "code",
   "execution_count": 11,
   "metadata": {},
   "outputs": [
    {
     "name": "stdout",
     "output_type": "stream",
     "text": [
      "sheep 2\n",
      "sheep 3\n",
      "sheep 4\n",
      "sheep 5\n",
      "sheep 6\n",
      "sheep 7\n",
      "sheep 8\n",
      "sheep 9\n",
      "sheep 10\n"
     ]
    }
   ],
   "source": [
    "for num in range(2,11):\n",
    "    print('sheep' ,num)"
   ]
  },
  {
   "cell_type": "code",
   "execution_count": 6,
   "metadata": {},
   "outputs": [
    {
     "name": "stdout",
     "output_type": "stream",
     "text": [
      "congrats you have written the table of 2\n",
      "2\n",
      "4\n",
      "6\n",
      "8\n",
      "10\n",
      "12\n",
      "14\n",
      "16\n",
      "18\n",
      "20\n"
     ]
    }
   ],
   "source": [
    "print(\"congrats you have written the table of 2\")\n",
    "for i in range(2,21,2):\n",
    "   print(i)"
   ]
  },
  {
   "cell_type": "code",
   "execution_count": 12,
   "metadata": {},
   "outputs": [
    {
     "name": "stdout",
     "output_type": "stream",
     "text": [
      "10\n",
      "9\n",
      "8\n",
      "7\n",
      "6\n"
     ]
    }
   ],
   "source": [
    "#reverse loop\n",
    "for num in range(10,5,-1):\n",
    "    print(num)"
   ]
  },
  {
   "cell_type": "code",
   "execution_count": 13,
   "metadata": {},
   "outputs": [
    {
     "name": "stdout",
     "output_type": "stream",
     "text": [
      "\n",
      "Na\n",
      "NaNa\n",
      "NaNaNa\n",
      "NaNaNaNa\n",
      "NaNaNaNaNa\n",
      "NaNaNaNaNaNa\n",
      "NaNaNaNaNaNaNa\n",
      "NaNaNaNaNaNaNaNa\n",
      "NaNaNaNaNaNaNaNaNa\n"
     ]
    }
   ],
   "source": [
    "#pattern loop\n",
    "for i in range(10):\n",
    "    print(i*'Na')"
   ]
  },
  {
   "cell_type": "markdown",
   "metadata": {},
   "source": [
    "extra functional setting for \"for loop\"\n",
    " 1.enumerate\n",
    " 2.zip"
   ]
  },
  {
   "cell_type": "code",
   "execution_count": 29,
   "metadata": {},
   "outputs": [
    {
     "name": "stdout",
     "output_type": "stream",
     "text": [
      "apple\n",
      "banana\n",
      "orange\n",
      "lemon\n"
     ]
    }
   ],
   "source": [
    "fruits = [\"apple\",\"banana\", \"orange\",\"lemon\"]\n",
    "for fruit in fruits:\n",
    "     print(fruit)"
   ]
  },
  {
   "cell_type": "code",
   "execution_count": 15,
   "metadata": {},
   "outputs": [
    {
     "name": "stdout",
     "output_type": "stream",
     "text": [
      "(0, 'apple')\n",
      "(1, 'banana')\n",
      "(2, 'orange')\n",
      "(3, 'lemon')\n"
     ]
    }
   ],
   "source": [
    "for fruit in enumerate(fruits):\n",
    "    print(fruit)"
   ]
  },
  {
   "cell_type": "code",
   "execution_count": 16,
   "metadata": {},
   "outputs": [
    {
     "name": "stdout",
     "output_type": "stream",
     "text": [
      "0 apple\n",
      "1 banana\n",
      "2 orange\n",
      "3 lemon\n"
     ]
    }
   ],
   "source": [
    "for i, fruit in enumerate(fruits):\n",
    "    print(i,fruit)"
   ]
  },
  {
   "cell_type": "code",
   "execution_count": 19,
   "metadata": {},
   "outputs": [],
   "source": [
    "prices = [100,40,200,50]"
   ]
  },
  {
   "cell_type": "code",
   "execution_count": 30,
   "metadata": {},
   "outputs": [
    {
     "name": "stdout",
     "output_type": "stream",
     "text": [
      "=> 100\n",
      "=> 40\n",
      "=> 200\n",
      "=> 50\n"
     ]
    }
   ],
   "source": [
    "for f,p in zip(fruits,prices):\n",
    "    print(f'=>',p)"
   ]
  },
  {
   "cell_type": "code",
   "execution_count": 23,
   "metadata": {},
   "outputs": [],
   "source": [
    "qty = ['2 kg','2 Dozens','1 kg','1/2 kg']"
   ]
  },
  {
   "cell_type": "code",
   "execution_count": 31,
   "metadata": {},
   "outputs": [
    {
     "name": "stdout",
     "output_type": "stream",
     "text": [
      "apple => 2 kg for 100\n",
      "banana => 2 Dozens for 40\n",
      "orange => 1 kg for 200\n",
      "lemon => 1/2 kg for 50\n"
     ]
    }
   ],
   "source": [
    "for f,p,q in zip(fruits,prices,qty):\n",
    "    print(f,'=>',q,'for',p)"
   ]
  }
 ],
 "metadata": {
  "kernelspec": {
   "display_name": "Python 3.9.13 ('base')",
   "language": "python",
   "name": "python3"
  },
  "language_info": {
   "codemirror_mode": {
    "name": "ipython",
    "version": 3
   },
   "file_extension": ".py",
   "mimetype": "text/x-python",
   "name": "python",
   "nbconvert_exporter": "python",
   "pygments_lexer": "ipython3",
   "version": "3.9.13"
  },
  "orig_nbformat": 4,
  "vscode": {
   "interpreter": {
    "hash": "79d71d161e7943240a345005223b4b57f09b9732a24e4917a9c0467b3aef16ea"
   }
  }
 },
 "nbformat": 4,
 "nbformat_minor": 2
}
