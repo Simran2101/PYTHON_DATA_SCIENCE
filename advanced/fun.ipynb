{
 "cells": [
  {
   "cell_type": "code",
   "execution_count": 1,
   "metadata": {},
   "outputs": [
    {
     "name": "stdout",
     "output_type": "stream",
     "text": [
      "Hi, i m outside any function\n"
     ]
    }
   ],
   "source": [
    "def hello():\n",
    "    print('This is a function')\n",
    "    print('This is not a good function')\n",
    "    print('Forget that this function exists')\n",
    "    print('Bye!')\n",
    "\n",
    "print('Hi, i m outside any function')"
   ]
  },
  {
   "cell_type": "code",
   "execution_count": 3,
   "metadata": {},
   "outputs": [
    {
     "name": "stdout",
     "output_type": "stream",
     "text": [
      "This is a function\n",
      "This is not a good function\n",
      "Forget that this function exists\n",
      "Bye!\n"
     ]
    }
   ],
   "source": [
    "hello() #calling"
   ]
  },
  {
   "cell_type": "code",
   "execution_count": 4,
   "metadata": {},
   "outputs": [
    {
     "name": "stdout",
     "output_type": "stream",
     "text": [
      "This is a function\n",
      "This is not a good function\n",
      "Forget that this function exists\n",
      "Bye!\n",
      "This is a function\n",
      "This is not a good function\n",
      "Forget that this function exists\n",
      "Bye!\n",
      "This is a function\n",
      "This is not a good function\n",
      "Forget that this function exists\n",
      "Bye!\n",
      "This is a function\n",
      "This is not a good function\n",
      "Forget that this function exists\n",
      "Bye!\n",
      "This is a function\n",
      "This is not a good function\n",
      "Forget that this function exists\n",
      "Bye!\n"
     ]
    }
   ],
   "source": [
    "hello()\n",
    "hello()\n",
    "hello()\n",
    "hello()\n",
    "hello()"
   ]
  },
  {
   "cell_type": "code",
   "execution_count": 5,
   "metadata": {},
   "outputs": [
    {
     "name": "stdout",
     "output_type": "stream",
     "text": [
      "This is a function\n",
      "This is not a good function\n",
      "Forget that this function exists\n",
      "Bye!\n",
      "This is a function\n",
      "This is not a good function\n",
      "Forget that this function exists\n",
      "Bye!\n",
      "This is a function\n",
      "This is not a good function\n",
      "Forget that this function exists\n",
      "Bye!\n"
     ]
    }
   ],
   "source": [
    "for i in range(3):\n",
    "    hello()"
   ]
  },
  {
   "cell_type": "code",
   "execution_count": 6,
   "metadata": {},
   "outputs": [],
   "source": [
    "def area(length, breath):\n",
    "    ans = length * breath\n",
    "    return ans"
   ]
  },
  {
   "cell_type": "code",
   "execution_count": 7,
   "metadata": {},
   "outputs": [
    {
     "data": {
      "text/plain": [
       "25"
      ]
     },
     "execution_count": 7,
     "metadata": {},
     "output_type": "execute_result"
    }
   ],
   "source": [
    "area(5,5)"
   ]
  },
  {
   "cell_type": "code",
   "execution_count": 8,
   "metadata": {},
   "outputs": [
    {
     "name": "stdout",
     "output_type": "stream",
     "text": [
      "the area is 12\n"
     ]
    }
   ],
   "source": [
    "print('the area is', area(4, 3))"
   ]
  },
  {
   "cell_type": "code",
   "execution_count": 9,
   "metadata": {},
   "outputs": [
    {
     "name": "stdout",
     "output_type": "stream",
     "text": [
      "16 20\n"
     ]
    }
   ],
   "source": [
    "a = area(4, 4)\n",
    "b = area(4, 5)\n",
    "print(a, b)"
   ]
  },
  {
   "cell_type": "code",
   "execution_count": 10,
   "metadata": {},
   "outputs": [
    {
     "name": "stdout",
     "output_type": "stream",
     "text": [
      "160\n"
     ]
    }
   ],
   "source": [
    "big_area = area(5,5) + area(10, 12) + 15  # function in expression\n",
    "print(big_area)"
   ]
  },
  {
   "cell_type": "code",
   "execution_count": 12,
   "metadata": {},
   "outputs": [],
   "source": [
    "def fib(start: int, size: int):\n",
    "    '''\n",
    "    this is a fibonacci series generator\n",
    "    - params\n",
    "        - start: pass a number for the start of fibonacci series\n",
    "        - size: size of fibonacci series\n",
    "    - returns: list of fibonacci series\n",
    "    \n",
    "    ```\n",
    "    out = fib(0, 10)\n",
    "    print(out)\n",
    "    ```\n",
    "    '''\n",
    "    out = [start, start+1] # list with 2 init values\n",
    "    for i in range(size-2):\n",
    "        out.append(out[-1] + out[-2])\n",
    "    return out"
   ]
  },
  {
   "cell_type": "code",
   "execution_count": 13,
   "metadata": {},
   "outputs": [
    {
     "name": "stdout",
     "output_type": "stream",
     "text": [
      "[0, 1, 1, 2, 3, 5, 8, 13, 21, 34, 55, 89, 144, 233, 377, 610, 987, 1597, 2584, 4181, 6765, 10946, 17711, 28657, 46368]\n"
     ]
    }
   ],
   "source": [
    "print(fib(0, 25))"
   ]
  },
  {
   "cell_type": "code",
   "execution_count": 14,
   "metadata": {},
   "outputs": [],
   "source": [
    "def fib2(start, size):\n",
    "    out = [start, start+1]\n",
    "    for i in range(size-2):\n",
    "        out.append(out[-1] + out[-2])\n",
    "    return out"
   ]
  },
  {
   "cell_type": "code",
   "execution_count": 15,
   "metadata": {},
   "outputs": [],
   "source": [
    "# create a function to calculate to S.I. and Amount and return them\n",
    "def calc_si_amt(p, r, t):\n",
    "    si = p * r * t / 100\n",
    "    amt = p + si\n",
    "    return si, amt"
   ]
  },
  {
   "cell_type": "code",
   "execution_count": 16,
   "metadata": {},
   "outputs": [
    {
     "data": {
      "text/plain": [
       "(4000.0, 14000.0)"
      ]
     },
     "execution_count": 16,
     "metadata": {},
     "output_type": "execute_result"
    }
   ],
   "source": [
    "calc_si_amt(10000, 4, 10)"
   ]
  },
  {
   "cell_type": "code",
   "execution_count": 17,
   "metadata": {},
   "outputs": [
    {
     "name": "stdout",
     "output_type": "stream",
     "text": [
      "4000.0 14000.0\n"
     ]
    }
   ],
   "source": [
    "si, amt  = calc_si_amt(10000, 4, 10)\n",
    "print(si, amt)"
   ]
  },
  {
   "cell_type": "code",
   "execution_count": 1,
   "metadata": {},
   "outputs": [],
   "source": [
    "import utils"
   ]
  },
  {
   "cell_type": "code",
   "execution_count": 2,
   "metadata": {},
   "outputs": [],
   "source": [
    "s = 'This is that, that is this, what is where and where is what'"
   ]
  },
  {
   "cell_type": "code",
   "execution_count": 3,
   "metadata": {},
   "outputs": [
    {
     "data": {
      "text/plain": [
       "{'this,': 1,\n",
       " 'that,': 1,\n",
       " 'is': 4,\n",
       " 'what': 2,\n",
       " 'This': 1,\n",
       " 'that': 1,\n",
       " 'where': 2,\n",
       " 'and': 1}"
      ]
     },
     "execution_count": 3,
     "metadata": {},
     "output_type": "execute_result"
    }
   ],
   "source": [
    "utils.word_counter(s)"
   ]
  },
  {
   "cell_type": "code",
   "execution_count": 1,
   "metadata": {},
   "outputs": [
    {
     "ename": "NameError",
     "evalue": "name 'utils' is not defined",
     "output_type": "error",
     "traceback": [
      "\u001b[1;31m---------------------------------------------------------------------------\u001b[0m",
      "\u001b[1;31mNameError\u001b[0m                                 Traceback (most recent call last)",
      "\u001b[1;32mc:\\Users\\hp\\Documents\\Python_Data_Science\\advanced\\fun.ipynb Cell 19\u001b[0m in \u001b[0;36m<cell line: 1>\u001b[1;34m()\u001b[0m\n\u001b[1;32m----> <a href='vscode-notebook-cell:/c%3A/Users/hp/Documents/Python_Data_Science/advanced/fun.ipynb#X24sZmlsZQ%3D%3D?line=0'>1</a>\u001b[0m utils\u001b[39m.\u001b[39mchar_counter(s)\n",
      "\u001b[1;31mNameError\u001b[0m: name 'utils' is not defined"
     ]
    }
   ],
   "source": [
    "utils.char_counter(s)"
   ]
  },
  {
   "cell_type": "code",
   "execution_count": null,
   "metadata": {},
   "outputs": [],
   "source": []
  }
 ],
 "metadata": {
  "kernelspec": {
   "display_name": "Python 3.9.13 ('base')",
   "language": "python",
   "name": "python3"
  },
  "language_info": {
   "codemirror_mode": {
    "name": "ipython",
    "version": 3
   },
   "file_extension": ".py",
   "mimetype": "text/x-python",
   "name": "python",
   "nbconvert_exporter": "python",
   "pygments_lexer": "ipython3",
   "version": "3.9.13"
  },
  "orig_nbformat": 4,
  "vscode": {
   "interpreter": {
    "hash": "79d71d161e7943240a345005223b4b57f09b9732a24e4917a9c0467b3aef16ea"
   }
  }
 },
 "nbformat": 4,
 "nbformat_minor": 2
}
